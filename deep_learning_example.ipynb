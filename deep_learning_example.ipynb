{
  "cells": [
    {
      "cell_type": "markdown",
      "metadata": {
        "id": "5hIbr52I7Z7U"
      },
      "source": [
        "Deep Learning\n",
        "=============\n",
        "\n",
        "Assignment 1\n",
        "------------\n",
        "\n",
        "The objective of this assignment is to learn about simple data curation practices, and familiarize you with some of the data we'll be reusing later.\n",
        "\n",
        "This notebook uses the [notMNIST](http://yaroslavvb.blogspot.com/2011/09/notmnist-dataset.html) dataset to be used with python experiments. This dataset is designed to look like the classic [MNIST](http://yann.lecun.com/exdb/mnist/) dataset, while looking a little more like real data: it's a harder task, and the data is a lot less 'clean' than MNIST."
      ]
    },
    {
      "cell_type": "code",
      "execution_count": 1,
      "metadata": {
        "cellView": "both",
        "id": "apJbCsBHl-2A"
      },
      "outputs": [],
      "source": [
        "# These are all the modules we'll be using later. Make sure you can import them\n",
        "# before proceeding further.\n",
        "from __future__ import print_function\n",
        "import imageio\n",
        "import matplotlib.pyplot as plt\n",
        "import numpy as np\n",
        "import os\n",
        "import sys\n",
        "import tarfile\n",
        "from IPython.display import display, Image\n",
        "from sklearn.linear_model import LogisticRegression\n",
        "from six.moves.urllib.request import urlretrieve\n",
        "from six.moves import cPickle as pickle\n",
        "\n",
        "# Config the matplotlib backend as plotting inline in IPython\n",
        "%matplotlib inline"
      ]
    },
    {
      "cell_type": "markdown",
      "metadata": {
        "id": "jNWGtZaXn-5j"
      },
      "source": [
        "First, we'll download the dataset to our local machine. The data consists of characters rendered in a variety of fonts on a 28x28 image. The labels are limited to 'A' through 'J' (10 classes). The training set has about 500k and the testset 19000 labeled examples. Given these sizes, it should be possible to train models quickly on any machine."
      ]
    },
    {
      "cell_type": "code",
      "execution_count": 2,
      "metadata": {
        "cellView": "both",
        "colab": {
          "base_uri": "https://localhost:8080/"
        },
        "id": "EYRJ4ICW6-da",
        "outputId": "e9c06db0-06c3-45ae-d698-18f56305c76f"
      },
      "outputs": [
        {
          "output_type": "stream",
          "name": "stdout",
          "text": [
            "Found and verified ./notMNIST_large.tar.gz\n",
            "Found and verified ./notMNIST_small.tar.gz\n"
          ]
        }
      ],
      "source": [
        "url = 'https://commondatastorage.googleapis.com/books1000/' #download link\n",
        "last_percent_reported = None #to show loading progress\n",
        "data_root = '.' # Change me to store data elsewhere\n",
        "\n",
        "def download_progress_hook(count, blockSize, totalSize):\n",
        "  \"\"\"A hook to report the progress of a download. This is mostly intended for users with\n",
        "  slow internet connections. Reports every 5% change in download progress.\n",
        "  \"\"\"\n",
        "  global last_percent_reported\n",
        "  percent = int(count * blockSize * 100 / totalSize)\n",
        "\n",
        "  if last_percent_reported != percent:\n",
        "    if percent % 5 == 0:\n",
        "      sys.stdout.write(\"%s%%\" % percent)\n",
        "      sys.stdout.flush()\n",
        "    else:\n",
        "      sys.stdout.write(\".\")\n",
        "      sys.stdout.flush()\n",
        "      \n",
        "    last_percent_reported = percent\n",
        "        \n",
        "def maybe_download(filename, expected_bytes, force=False):\n",
        "  \"\"\"Download a file if not present, and make sure it's the right size.\"\"\"\n",
        "  dest_filename = os.path.join(data_root, filename)\n",
        "  if force or not os.path.exists(dest_filename):\n",
        "    print('Attempting to download:', filename) \n",
        "    filename, _ = urlretrieve(url + filename, dest_filename, reporthook=download_progress_hook)\n",
        "    print('\\nDownload Complete!')\n",
        "  statinfo = os.stat(dest_filename)\n",
        "  if statinfo.st_size == expected_bytes:\n",
        "    print('Found and verified', dest_filename)\n",
        "  else:\n",
        "    raise Exception(\n",
        "      'Failed to verify ' + dest_filename + '. Can you get to it with a browser?')\n",
        "  return dest_filename\n",
        "\n",
        "train_filename = maybe_download('notMNIST_large.tar.gz', 247336696)\n",
        "test_filename = maybe_download('notMNIST_small.tar.gz', 8458043)"
      ]
    },
    {
      "cell_type": "markdown",
      "metadata": {
        "id": "cC3p0oEyF8QT"
      },
      "source": [
        "Extract the dataset from the compressed .tar.gz file.\n",
        "This should give you a set of directories, labeled A through J."
      ]
    },
    {
      "cell_type": "code",
      "execution_count": 3,
      "metadata": {
        "cellView": "both",
        "colab": {
          "base_uri": "https://localhost:8080/"
        },
        "id": "H8CBE-WZ8nmj",
        "outputId": "ada8f21a-0f38-4586-9f3d-cbe7b7d70009"
      },
      "outputs": [
        {
          "output_type": "stream",
          "name": "stdout",
          "text": [
            "./notMNIST_large already present - Skipping extraction of ./notMNIST_large.tar.gz.\n",
            "['./notMNIST_large/A', './notMNIST_large/B', './notMNIST_large/C', './notMNIST_large/D', './notMNIST_large/E', './notMNIST_large/F', './notMNIST_large/G', './notMNIST_large/H', './notMNIST_large/I', './notMNIST_large/J']\n",
            "./notMNIST_small already present - Skipping extraction of ./notMNIST_small.tar.gz.\n",
            "['./notMNIST_small/A', './notMNIST_small/B', './notMNIST_small/C', './notMNIST_small/D', './notMNIST_small/E', './notMNIST_small/F', './notMNIST_small/G', './notMNIST_small/H', './notMNIST_small/I', './notMNIST_small/J']\n"
          ]
        }
      ],
      "source": [
        "num_classes = 10\n",
        "np.random.seed(133)\n",
        "\n",
        "def maybe_extract(filename, force=False):\n",
        "  root = os.path.splitext(os.path.splitext(filename)[0])[0]  # remove .tar.gz\n",
        "  if os.path.isdir(root) and not force:\n",
        "    # You may override by setting force=True.\n",
        "    print('%s already present - Skipping extraction of %s.' % (root, filename))\n",
        "  else:\n",
        "    print('Extracting data for %s. This may take a while. Please wait.' % root)\n",
        "    tar = tarfile.open(filename)\n",
        "    sys.stdout.flush()\n",
        "    tar.extractall(data_root)\n",
        "    tar.close()\n",
        "  data_folders = [\n",
        "    os.path.join(root, d) for d in sorted(os.listdir(root))\n",
        "    if os.path.isdir(os.path.join(root, d))]\n",
        "  if len(data_folders) != num_classes:\n",
        "    raise Exception(\n",
        "      'Expected %d folders, one per class. Found %d instead.' % (\n",
        "        num_classes, len(data_folders)))\n",
        "  print(data_folders)\n",
        "  return data_folders\n",
        "  \n",
        "train_folders = maybe_extract(train_filename)\n",
        "test_folders = maybe_extract(test_filename)"
      ]
    },
    {
      "cell_type": "markdown",
      "metadata": {
        "id": "4riXK3IoHgx6"
      },
      "source": [
        "---\n",
        "Problem 1\n",
        "---------\n",
        "\n",
        "Let's take a peek at some of the data to make sure it looks sensible. Each exemplar should be an image of a character A through J rendered in a different font. Display a sample of the images that we just downloaded. Hint: you can use the package IPython.display.\n",
        "\n",
        "---"
      ]
    },
    {
      "cell_type": "code",
      "execution_count": 4,
      "metadata": {
        "colab": {
          "base_uri": "https://localhost:8080/",
          "height": 102
        },
        "id": "Axovxd6KBlCu",
        "outputId": "e052fa73-f3a0-4e31-ae82-6538cd3eeefc"
      },
      "outputs": [
        {
          "output_type": "stream",
          "name": "stdout",
          "text": [
            "dirs ['H', 'A.pickle', 'C.pickle', 'G.pickle', 'E', 'I', 'J', 'D.pickle', 'I.pickle', 'B.pickle', 'J.pickle', 'B', 'D', 'G', 'A', 'H.pickle', 'F.pickle', 'C', 'F', 'E.pickle']\n",
            "files ['Um9zZU5vdGUudHRm.png', 'QmlnIENodW1wIEJUTiBDb25kIE91dC50dGY=.png', 'Qmxhbmtib3hlci1JdGFsaWMudHRm.png', 'R3JpZGRlci1PRkYub3Rm.png', 'U3RvbmVTYW5zT1NJVEMtTWVkaXVtLm90Zg==.png', 'TFRVbml2ZXJzLUNvbmRCbGFja0l0YWxpYy5vdGY=.png', 'SGlnaGxhbmRlciBNZCBJVEMgVFQgTWVkaXVtLnR0Zg==.png', 'QXJpYWwtSXRhbGljTVQub3Rm.png', 'SGV5IEtpZHMhLnR0Zg==.png', 'UmVndWxhdG9yLVRoaW5JdGFsaWMub3Rm.png']\n"
          ]
        },
        {
          "output_type": "execute_result",
          "data": {
            "text/plain": [
              "<IPython.core.display.Image object>"
            ],
            "image/png": "[encoded data removed]"
          },
          "metadata": {},
          "execution_count": 4
        }
      ],
      "source": [
        "##########################################\n",
        "# --- example solution for Problem 1 --- #\n",
        "##########################################\n",
        "\n",
        "# list some image file names\n",
        "print('dirs', os.listdir('notMNIST_large'))\n",
        "print('files', os.listdir('notMNIST_large/A')[0:10])\n",
        "\n",
        "# diplay one of the files from above list\n",
        "file_name = \"notMNIST_large/A/ZWFydGhsaW5nLi50dGY=.png\"\n",
        "Image(filename=file_name)"
      ]
    },
    {
      "cell_type": "markdown",
      "metadata": {
        "id": "J1_N6wBNBlCu"
      },
      "source": [
        "---"
      ]
    },
    {
      "cell_type": "markdown",
      "metadata": {
        "id": "PBdkjESPK8tw"
      },
      "source": [
        "Now let's load the data in a more manageable format. Since, depending on your computer setup you might not be able to fit it all in memory, we'll load each class into a separate dataset, store them on disk and curate them independently. Later we'll merge them into a single dataset of manageable size.\n",
        "\n",
        "We'll convert the entire dataset into a 3D array (image index, x, y) of floating point values, normalized to have approximately zero mean and standard deviation ~0.5 to make training easier down the road. \n",
        "\n",
        "A few images might not be readable, we'll just skip them."
      ]
    },
    {
      "cell_type": "code",
      "execution_count": 5,
      "metadata": {
        "cellView": "both",
        "colab": {
          "base_uri": "https://localhost:8080/"
        },
        "id": "h7q0XhG3MJdf",
        "outputId": "7fcbabb5-8c85-4a54-9e75-ccf9094ce489"
      },
      "outputs": [
        {
          "output_type": "stream",
          "name": "stdout",
          "text": [
            "./notMNIST_large/A.pickle already present - Skipping pickling.\n",
            "./notMNIST_large/B.pickle already present - Skipping pickling.\n",
            "./notMNIST_large/C.pickle already present - Skipping pickling.\n",
            "./notMNIST_large/D.pickle already present - Skipping pickling.\n",
            "./notMNIST_large/E.pickle already present - Skipping pickling.\n",
            "./notMNIST_large/F.pickle already present - Skipping pickling.\n",
            "./notMNIST_large/G.pickle already present - Skipping pickling.\n",
            "./notMNIST_large/H.pickle already present - Skipping pickling.\n",
            "./notMNIST_large/I.pickle already present - Skipping pickling.\n",
            "./notMNIST_large/J.pickle already present - Skipping pickling.\n",
            "./notMNIST_small/A.pickle already present - Skipping pickling.\n",
            "./notMNIST_small/B.pickle already present - Skipping pickling.\n",
            "./notMNIST_small/C.pickle already present - Skipping pickling.\n",
            "./notMNIST_small/D.pickle already present - Skipping pickling.\n",
            "./notMNIST_small/E.pickle already present - Skipping pickling.\n",
            "./notMNIST_small/F.pickle already present - Skipping pickling.\n",
            "./notMNIST_small/G.pickle already present - Skipping pickling.\n",
            "./notMNIST_small/H.pickle already present - Skipping pickling.\n",
            "./notMNIST_small/I.pickle already present - Skipping pickling.\n",
            "./notMNIST_small/J.pickle already present - Skipping pickling.\n"
          ]
        }
      ],
      "source": [
        "image_size = 28  # Pixel width and height. (NxN images assumed)\n",
        "pixel_depth = 255.0  # Number of levels per pixel. \n",
        "\n",
        "def load_letter(folder, min_num_images):\n",
        "  \"\"\"Load the data for a single letter label.\"\"\"\n",
        "  image_files = os.listdir(folder) #list all image files\n",
        "  #Init numpy array to store images as arrays of intensity values (White-Black range): https://imageio.readthedocs.io/en/stable/_autosummary/imageio.imread.html?highlight=imread\n",
        "  dataset = np.ndarray(shape=(len(image_files), image_size, image_size), dtype=np.float32) \n",
        "  print(folder)\n",
        "  num_images = 0 #Initialize to count images\n",
        "  for image in image_files:\n",
        "    image_file = os.path.join(folder, image) #Get full path to image file\n",
        "    try:\n",
        "      #Read image into numpy array, normalizing the values to 255.0 base level & standardizing to a (-1;1) interval\n",
        "      ### Intensity > 255.0/2 -> [i - 255/2] > 0 ; Intensity < 255.0/2 -> [i - 255/2] <0 ; else 0 ; division is used to stdize to -1 to 1 interval\n",
        "      image_data = (imageio.imread(image_file).astype(float) - pixel_depth / 2) / pixel_depth \n",
        "      \n",
        "      if image_data.shape != (image_size, image_size):\n",
        "        raise Exception('Unexpected image shape: %s' % str(image_data.shape)) #particular case - images are expected to be of the same specific size\n",
        "      dataset[num_images, :, :] = image_data #Add current image data to the numpy array\n",
        "      num_images = num_images + 1 #increment image number\n",
        "    except (IOError, ValueError) as e: #failsafe if image is of the wrong format\n",
        "      print('Could not read:', image_file, ':', e, '- it\\'s ok, skipping.')\n",
        "    \n",
        "  dataset = dataset[0:num_images, :, :] #Resize numpy array to the actual number of added images\n",
        "  if num_images < min_num_images: #In case something is wrong with the data format\n",
        "    raise Exception('Many fewer images than expected: %d < %d' %\n",
        "                    (num_images, min_num_images))\n",
        "    \n",
        "  print('Full dataset tensor:', dataset.shape)\n",
        "  print('Mean:', np.mean(dataset))\n",
        "  print('Standard deviation:', np.std(dataset))\n",
        "  return dataset\n",
        "        \n",
        "def maybe_pickle(data_folders, min_num_images_per_class, force=False):\n",
        "  '''Used to save nparray-formatted datasets for future use'''\n",
        "  dataset_names = [] #To store file names\n",
        "  for folder in data_folders:\n",
        "    set_filename = folder + '.pickle' #File name derived from dataset folder name (related letter)\n",
        "    dataset_names.append(set_filename) #Save file name\n",
        "    if os.path.exists(set_filename) and not force: #If not already saved or resaving is forced\n",
        "      # You may override by setting force=True.\n",
        "      print('%s already present - Skipping pickling.' % set_filename)\n",
        "    else:\n",
        "      print('Pickling %s.' % set_filename)\n",
        "      dataset = load_letter(folder, min_num_images_per_class) #Generate dataset from images\n",
        "      try:\n",
        "        with open(set_filename, 'wb') as f: #Save dataset to a file\n",
        "          pickle.dump(dataset, f, pickle.HIGHEST_PROTOCOL)\n",
        "      except Exception as e: #If dataset is not saveable\n",
        "        print('Unable to save data to', set_filename, ':', e)\n",
        "  \n",
        "  return dataset_names #\n",
        "\n",
        "train_datasets = maybe_pickle(train_folders, 45000) #Pre-process training data\n",
        "test_datasets = maybe_pickle(test_folders, 1800) #Pre-process test data"
      ]
    },
    {
      "cell_type": "markdown",
      "metadata": {
        "id": "vUdbskYE2d87"
      },
      "source": [
        "---\n",
        "Problem 2\n",
        "---------\n",
        "\n",
        "Let's verify that the data still looks good. Displaying a sample of the labels and images from the ndarray. Hint: you can use matplotlib.pyplot.\n",
        "\n",
        "---"
      ]
    },
    {
      "cell_type": "code",
      "execution_count": 6,
      "metadata": {
        "colab": {
          "base_uri": "https://localhost:8080/",
          "height": 1000
        },
        "id": "oUsrWM5TBlCw",
        "outputId": "db25922a-a188-4c11-d5c9-671f5a6a2d3d"
      },
      "outputs": [
        {
          "output_type": "stream",
          "name": "stdout",
          "text": [
            "dataset: ./notMNIST_large/A.pickle\n",
            "dataset shape: (52909, 28, 28)\n",
            "sample image:\n"
          ]
        },
        {
          "output_type": "display_data",
          "data": {
            "text/plain": [
              "<Figure size 288x288 with 2 Axes>"
            ],
            "image/png": "[encoded data removed]"
          },
          "metadata": {
            "needs_background": "light"
          }
        },
        {
          "output_type": "stream",
          "name": "stdout",
          "text": [
            "dataset: ./notMNIST_large/B.pickle\n",
            "dataset shape: (52911, 28, 28)\n",
            "sample image:\n"
          ]
        },
        {
          "output_type": "display_data",
          "data": {
            "text/plain": [
              "<Figure size 288x288 with 2 Axes>"
            ],
            "image/png": "[encoded data removed]"
          },
          "metadata": {
            "needs_background": "light"
          }
        },
        {
          "output_type": "stream",
          "name": "stdout",
          "text": [
            "dataset: ./notMNIST_large/C.pickle\n",
            "dataset shape: (52912, 28, 28)\n",
            "sample image:\n"
          ]
        },
        {
          "output_type": "display_data",
          "data": {
            "text/plain": [
              "<Figure size 288x288 with 2 Axes>"
            ],
            "image/png": "[encoded data removed]"
          },
          "metadata": {
            "needs_background": "light"
          }
        },
        {
          "output_type": "stream",
          "name": "stdout",
          "text": [
            "dataset: ./notMNIST_large/D.pickle\n",
            "dataset shape: (52911, 28, 28)\n",
            "sample image:\n"
          ]
        },
        {
          "output_type": "display_data",
          "data": {
            "text/plain": [
              "<Figure size 288x288 with 2 Axes>"
            ],
            "image/png": "[encoded data removed]"
          },
          "metadata": {
            "needs_background": "light"
          }
        },
        {
          "output_type": "stream",
          "name": "stdout",
          "text": [
            "dataset: ./notMNIST_large/E.pickle\n",
            "dataset shape: (52912, 28, 28)\n",
            "sample image:\n"
          ]
        },
        {
          "output_type": "display_data",
          "data": {
            "text/plain": [
              "<Figure size 288x288 with 2 Axes>"
            ],
            "image/png": "[encoded data removed]"
          },
          "metadata": {
            "needs_background": "light"
          }
        },
        {
          "output_type": "stream",
          "name": "stdout",
          "text": [
            "dataset: ./notMNIST_large/F.pickle\n",
            "dataset shape: (52912, 28, 28)\n",
            "sample image:\n"
          ]
        },
        {
          "output_type": "display_data",
          "data": {
            "text/plain": [
              "<Figure size 288x288 with 2 Axes>"
            ],
            "image/png": "[encoded data removed]"
          },
          "metadata": {
            "needs_background": "light"
          }
        },
        {
          "output_type": "stream",
          "name": "stdout",
          "text": [
            "dataset: ./notMNIST_large/G.pickle\n",
            "dataset shape: (52912, 28, 28)\n",
            "sample image:\n"
          ]
        },
        {
          "output_type": "display_data",
          "data": {
            "text/plain": [
              "<Figure size 288x288 with 2 Axes>"
            ],
            "image/png": "[encoded data removed]"
          },
          "metadata": {
            "needs_background": "light"
          }
        },
        {
          "output_type": "stream",
          "name": "stdout",
          "text": [
            "dataset: ./notMNIST_large/H.pickle\n",
            "dataset shape: (52912, 28, 28)\n",
            "sample image:\n"
          ]
        },
        {
          "output_type": "display_data",
          "data": {
            "text/plain": [
              "<Figure size 288x288 with 2 Axes>"
            ],
            "image/png": "[encoded data removed]"
          },
          "metadata": {
            "needs_background": "light"
          }
        },
        {
          "output_type": "stream",
          "name": "stdout",
          "text": [
            "dataset: ./notMNIST_large/I.pickle\n",
            "dataset shape: (52912, 28, 28)\n",
            "sample image:\n"
          ]
        },
        {
          "output_type": "display_data",
          "data": {
            "text/plain": [
              "<Figure size 288x288 with 2 Axes>"
            ],
            "image/png": "[encoded data removed]"
          },
          "metadata": {
            "needs_background": "light"
          }
        },
        {
          "output_type": "stream",
          "name": "stdout",
          "text": [
            "dataset: ./notMNIST_large/J.pickle\n",
            "dataset shape: (52911, 28, 28)\n",
            "sample image:\n"
          ]
        },
        {
          "output_type": "display_data",
          "data": {
            "text/plain": [
              "<Figure size 288x288 with 2 Axes>"
            ],
            "image/png": "[encoded data removed]"
          },
          "metadata": {
            "needs_background": "light"
          }
        }
      ],
      "source": [
        "##########################################\n",
        "# --- example solution for Problem 2 --- #\n",
        "##########################################\n",
        "\n",
        "for data_set_name in train_datasets: \n",
        "    print('dataset:', data_set_name) \n",
        "    with open(data_set_name, 'rb') as f:\n",
        "        data_set = pickle.load(f) #Load pickled dataset to memory\n",
        "    \n",
        "    print('dataset shape:', data_set.shape) #Number of images, width, height\n",
        "    \n",
        "    print('sample image:')\n",
        "    # HINT, try data_set[2] to see that not all letters are recognizable by a human\n",
        "    image_data = data_set[2]\n",
        "    plt.matshow(image_data, cmap=plt.cm.gray)\n",
        "    plt.colorbar()\n",
        "    plt.show()"
      ]
    },
    {
      "cell_type": "markdown",
      "metadata": {
        "id": "cYznx5jUwzoO"
      },
      "source": [
        "---\n",
        "Problem 3\n",
        "---------\n",
        "Another check: we expect the data to be balanced across classes. Verify that.\n",
        "\n",
        "---"
      ]
    },
    {
      "cell_type": "code",
      "execution_count": 7,
      "metadata": {
        "colab": {
          "base_uri": "https://localhost:8080/"
        },
        "id": "SWjk3tvbBlCw",
        "outputId": "57bea4e8-0d1b-4c31-d231-a9a7cb38df7b"
      },
      "outputs": [
        {
          "output_type": "stream",
          "name": "stdout",
          "text": [
            "class: A count: 52909\n",
            "class: B count: 52911\n",
            "class: C count: 52912\n",
            "class: D count: 52911\n",
            "class: E count: 52912\n",
            "class: F count: 52912\n",
            "class: G count: 52912\n",
            "class: H count: 52912\n",
            "class: I count: 52912\n",
            "class: J count: 52911\n",
            "standard deviation: 0.9165151389911681\n"
          ]
        }
      ],
      "source": [
        "##########################################\n",
        "# --- example solution for Problem 3 --- #\n",
        "##########################################\n",
        "\n",
        "# balanced across classes means that each class (A-J) has about the same number of samples\n",
        "class_example_count = [] #To store sample counts for different classes\n",
        "for data_set_name in train_datasets:\n",
        "    with open(data_set_name, 'rb') as f:\n",
        "        data_set = pickle.load(f)\n",
        "    #Class is the last letter of pickled dataset name, size is the first dimension of dataset nparray\n",
        "    print('class:', data_set_name[-8], 'count:', data_set.shape[0])\n",
        "    class_example_count.append(data_set.shape[0]) #\n",
        "print('standard deviation:', np.array(class_example_count).std()) #Std shows absolute sample count difference"
      ]
    },
    {
      "cell_type": "markdown",
      "metadata": {
        "id": "1r7RQSIpBlCw"
      },
      "source": [
        "---"
      ]
    },
    {
      "cell_type": "markdown",
      "metadata": {
        "id": "LA7M7K22ynCt"
      },
      "source": [
        "Merge and prune the training data as needed. Depending on your computer setup, you might not be able to fit it all in memory, and you can tune `train_size` as needed. The labels will be stored into a separate array of integers 0 through 9.\n",
        "\n",
        "Also create a validation dataset for hyperparameter tuning."
      ]
    },
    {
      "cell_type": "code",
      "execution_count": 8,
      "metadata": {
        "cellView": "both",
        "colab": {
          "base_uri": "https://localhost:8080/"
        },
        "id": "s3mWgZLpyuzq",
        "outputId": "15d6cb9c-d5af-4eed-b492-0a0d6f4b42db"
      },
      "outputs": [
        {
          "output_type": "stream",
          "name": "stdout",
          "text": [
            "Training: (200000, 28, 28) (200000,)\n",
            "Validation: (10000, 28, 28) (10000,)\n",
            "Testing: (10000, 28, 28) (10000,)\n"
          ]
        }
      ],
      "source": [
        "def make_arrays(nb_rows, img_size):\n",
        "  if nb_rows:\n",
        "    dataset = np.ndarray((nb_rows, img_size, img_size), dtype=np.float32) #To store training datasets for all classes\n",
        "    labels = np.ndarray(nb_rows, dtype=np.int32) #To store labels (as integers to simplify comparison)\n",
        "  else:\n",
        "    dataset, labels = None, None #If not profided\n",
        "  return dataset, labels\n",
        "\n",
        "def merge_datasets(pickle_files, train_size, valid_size=0):\n",
        "  num_classes = len(pickle_files) #From list of pickled datasets\n",
        "  valid_dataset, valid_labels = make_arrays(valid_size, image_size) #Combine validation datasets\n",
        "  train_dataset, train_labels = make_arrays(train_size, image_size) #Combine training datasets\n",
        "  vsize_per_class = valid_size // num_classes #Average size of validation dataset per class\n",
        "  tsize_per_class = train_size // num_classes #Average size of training dataset per class\n",
        "    \n",
        "  start_v, start_t = 0, 0 #Start validation, training from image number (same for all classes)\n",
        "  end_v, end_t = vsize_per_class, tsize_per_class #How many images to include in validation and training datasets (same for all classes)\n",
        "  end_l = vsize_per_class+tsize_per_class #How many images to use when extracting training data from dataset (same for all classes)\n",
        "  for label, pickle_file in enumerate(pickle_files):      \n",
        "    try:\n",
        "      with open(pickle_file, 'rb') as f:\n",
        "        #Pickled dataset contains all the available data, we decide how we want to split the data between training, testing and validation datasets\n",
        "        letter_set = pickle.load(f)\n",
        "        # let's shuffle the letters to have random validation and training set (so the order is not defining which data goes to each dataset?)\n",
        "        np.random.shuffle(letter_set) \n",
        "        if valid_dataset is not None: #If validation dataset is required\n",
        "          valid_letter = letter_set[:vsize_per_class, :, :] #Extract validation data for current letter\n",
        "          valid_dataset[start_v:end_v, :, :] = valid_letter #Save validation data to a new dataset (nparray)\n",
        "          valid_labels[start_v:end_v] = label #Add corresponding label to validation dataset\n",
        "          start_v += vsize_per_class #Shifting the index to avoid sampling validation data from the same range of indexes for different letters\n",
        "          end_v += vsize_per_class\n",
        "                    \n",
        "        train_letter = letter_set[vsize_per_class:end_l, :, :] #Extract training dataset\n",
        "        train_dataset[start_t:end_t, :, :] = train_letter #Save training data\n",
        "        train_labels[start_t:end_t] = label #Save training labels\n",
        "        start_t += tsize_per_class #Shifting the index to avoid sampling training data from the same range of indexes for different letters\n",
        "        end_t += tsize_per_class\n",
        "    except Exception as e:\n",
        "      print('Unable to process data from', pickle_file, ':', e) #Cannot read pickled datasets\n",
        "      raise\n",
        "    \n",
        "  return valid_dataset, valid_labels, train_dataset, train_labels #Return datasets\n",
        "            \n",
        "#Set proportions of data assigned to different datasets\n",
        "train_size = 200000\n",
        "valid_size = 10000\n",
        "test_size = 10000\n",
        "\n",
        "#Generate validation & training subsets - !!!generated from the same datasets!!!\n",
        "valid_dataset, valid_labels, train_dataset, train_labels = merge_datasets(train_datasets, train_size, valid_size)\n",
        "\n",
        "#Test data does not require validation subset and are !!!generated from separate dataset!!!\n",
        "_, _, test_dataset, test_labels = merge_datasets(test_datasets, test_size)\n",
        "\n",
        "#Print info about subsets\n",
        "print('Training:', train_dataset.shape, train_labels.shape)\n",
        "print('Validation:', valid_dataset.shape, valid_labels.shape)\n",
        "print('Testing:', test_dataset.shape, test_labels.shape)"
      ]
    },
    {
      "cell_type": "markdown",
      "metadata": {
        "id": "GPTCnjIcyuKN"
      },
      "source": [
        "Next, we'll randomize the data. It's important to have the labels well shuffled for the training and test distributions to match."
      ]
    },
    {
      "cell_type": "code",
      "execution_count": 9,
      "metadata": {
        "cellView": "both",
        "id": "6WZ2l2tN2zOL"
      },
      "outputs": [],
      "source": [
        "#\"Distributions match\" means that every label has equal chance of appearing in every dataset and training on all data is equally probable: https://medium.com/100-days-of-algorithms/day-43-shuffle-b5abe4644c23\n",
        "def randomize(dataset, labels):\n",
        "  permutation = np.random.permutation(labels.shape[0]) #Randomly rearrange label array and save result to use as filter\n",
        "  shuffled_dataset = dataset[permutation,:,:] #Reorder dataset using permuted labels as filter\n",
        "  shuffled_labels = labels[permutation] #Reorder labels -//-\n",
        "  return shuffled_dataset, shuffled_labels #Return shuffled dataset and labels\n",
        "\n",
        "train_dataset, train_labels = randomize(train_dataset, train_labels)#Shuffle training data\n",
        "test_dataset, test_labels = randomize(test_dataset, test_labels)#Shuffle test data\n",
        "valid_dataset, valid_labels = randomize(valid_dataset, valid_labels)#Shuffle validation data"
      ]
    },
    {
      "cell_type": "markdown",
      "metadata": {
        "id": "puDUTe6t6USl"
      },
      "source": [
        "---\n",
        "Problem 4\n",
        "---------\n",
        "Convince yourself that the data is still good after shuffling!\n",
        "\n",
        "---"
      ]
    },
    {
      "cell_type": "code",
      "execution_count": 10,
      "metadata": {
        "colab": {
          "base_uri": "https://localhost:8080/",
          "height": 1000
        },
        "id": "cWb0i4ewBlC3",
        "outputId": "368b3f39-4085-429c-de05-f52973b7e572"
      },
      "outputs": [
        {
          "output_type": "stream",
          "name": "stdout",
          "text": [
            "G\n"
          ]
        },
        {
          "output_type": "display_data",
          "data": {
            "text/plain": [
              "<Figure size 288x288 with 2 Axes>"
            ],
            "image/png": "[encoded data removed]"
          },
          "metadata": {
            "needs_background": "light"
          }
        },
        {
          "output_type": "stream",
          "name": "stdout",
          "text": [
            "B\n"
          ]
        },
        {
          "output_type": "display_data",
          "data": {
            "text/plain": [
              "<Figure size 288x288 with 2 Axes>"
            ],
            "image/png": "[encoded data removed]"
          },
          "metadata": {
            "needs_background": "light"
          }
        },
        {
          "output_type": "stream",
          "name": "stdout",
          "text": [
            "J\n"
          ]
        },
        {
          "output_type": "display_data",
          "data": {
            "text/plain": [
              "<Figure size 288x288 with 2 Axes>"
            ],
            "image/png": "[encoded data removed]"
          },
          "metadata": {
            "needs_background": "light"
          }
        },
        {
          "output_type": "stream",
          "name": "stdout",
          "text": [
            "J\n"
          ]
        },
        {
          "output_type": "display_data",
          "data": {
            "text/plain": [
              "<Figure size 288x288 with 2 Axes>"
            ],
            "image/png": "[encoded data removed]"
          },
          "metadata": {
            "needs_background": "light"
          }
        },
        {
          "output_type": "stream",
          "name": "stdout",
          "text": [
            "H\n"
          ]
        },
        {
          "output_type": "display_data",
          "data": {
            "text/plain": [
              "<Figure size 288x288 with 2 Axes>"
            ],
            "image/png": "[encoded data removed]"
          },
          "metadata": {
            "needs_background": "light"
          }
        },
        {
          "output_type": "stream",
          "name": "stdout",
          "text": [
            "G\n"
          ]
        },
        {
          "output_type": "display_data",
          "data": {
            "text/plain": [
              "<Figure size 288x288 with 2 Axes>"
            ],
            "image/png": "[encoded data removed]"
          },
          "metadata": {
            "needs_background": "light"
          }
        },
        {
          "output_type": "stream",
          "name": "stdout",
          "text": [
            "A\n"
          ]
        },
        {
          "output_type": "display_data",
          "data": {
            "text/plain": [
              "<Figure size 288x288 with 2 Axes>"
            ],
            "image/png": "[encoded data removed]"
          },
          "metadata": {
            "needs_background": "light"
          }
        },
        {
          "output_type": "stream",
          "name": "stdout",
          "text": [
            "G\n"
          ]
        },
        {
          "output_type": "display_data",
          "data": {
            "text/plain": [
              "<Figure size 288x288 with 2 Axes>"
            ],
            "image/png": "[encoded data removed]"
          },
          "metadata": {
            "needs_background": "light"
          }
        },
        {
          "output_type": "stream",
          "name": "stdout",
          "text": [
            "A\n"
          ]
        },
        {
          "output_type": "display_data",
          "data": {
            "text/plain": [
              "<Figure size 288x288 with 2 Axes>"
            ],
            "image/png": "[encoded data removed]"
          },
          "metadata": {
            "needs_background": "light"
          }
        },
        {
          "output_type": "stream",
          "name": "stdout",
          "text": [
            "B\n"
          ]
        },
        {
          "output_type": "display_data",
          "data": {
            "text/plain": [
              "<Figure size 288x288 with 2 Axes>"
            ],
            "image/png": "[encoded data removed]"
          },
          "metadata": {
            "needs_background": "light"
          }
        }
      ],
      "source": [
        "##########################################\n",
        "# --- example solution for Problem 4 --- #\n",
        "##########################################\n",
        "\n",
        "# pick 10 random samples from training set\n",
        "# display them and visually check chat the label is correct\n",
        "# note that there are letters that are not recognizable\n",
        "# thats part of the dataset\n",
        "\n",
        "rand_sample_count = 10 #Subset\n",
        "\n",
        "train_sample_count = train_dataset.shape[0] #Whole training dataset size\n",
        "classes = ['A', 'B', 'C', 'D', 'E', 'F', 'G', 'H', 'I', 'J']\n",
        "\n",
        "rand_indexes = np.random.randint(train_sample_count, size=rand_sample_count) #Generate random indexes to subset the training data\n",
        "sample_data = train_dataset[rand_indexes, :, :] #Subsetting data\n",
        "sample_labels = train_labels[rand_indexes] #Subsetting labels\n",
        "\n",
        "# display image and label, and inspect that it looks like they match\n",
        "for i in range(rand_sample_count):\n",
        "    print(classes[sample_labels[i]])\n",
        "    plt.matshow(sample_data[i], cmap=plt.cm.gray)\n",
        "    plt.colorbar()\n",
        "    plt.show()"
      ]
    },
    {
      "cell_type": "markdown",
      "metadata": {
        "id": "nxLswcWxBlC3"
      },
      "source": [
        "---"
      ]
    },
    {
      "cell_type": "markdown",
      "metadata": {
        "id": "tIQJaJuwg5Hw"
      },
      "source": [
        "Finally, let's save the data for later reuse:"
      ]
    },
    {
      "cell_type": "code",
      "execution_count": 11,
      "metadata": {
        "cellView": "both",
        "id": "QiR_rETzem6C"
      },
      "outputs": [],
      "source": [
        "pickle_file = os.path.join(data_root, 'notMNIST.pickle') \n",
        "\n",
        "try:#Saving dataset as dict of np.arrays for labels & data\n",
        "  f = open(pickle_file, 'wb')\n",
        "  save = {\n",
        "    'train_dataset': train_dataset,\n",
        "    'train_labels': train_labels,\n",
        "    'valid_dataset': valid_dataset,\n",
        "    'valid_labels': valid_labels,\n",
        "    'test_dataset': test_dataset,\n",
        "    'test_labels': test_labels,\n",
        "    }\n",
        "  pickle.dump(save, f, pickle.HIGHEST_PROTOCOL)\n",
        "  f.close()\n",
        "except Exception as e:\n",
        "  print('Unable to save data to', pickle_file, ':', e)\n",
        "  raise"
      ]
    },
    {
      "cell_type": "code",
      "execution_count": 12,
      "metadata": {
        "cellView": "both",
        "colab": {
          "base_uri": "https://localhost:8080/"
        },
        "id": "hQbLjrW_iT39",
        "outputId": "a2cd2487-b2de-47ad-ebc2-fd03f5f3d744"
      },
      "outputs": [
        {
          "output_type": "stream",
          "name": "stdout",
          "text": [
            "Compressed pickle size: 690800502\n"
          ]
        }
      ],
      "source": [
        "#https://www.geeksforgeeks.org/stat-command-in-linux-with-examples/\n",
        "statinfo = os.stat(pickle_file)\n",
        "print('Compressed pickle size:', statinfo.st_size)"
      ]
    },
    {
      "cell_type": "markdown",
      "metadata": {
        "id": "gE_cRAQB33lk"
      },
      "source": [
        "---\n",
        "Problem 5\n",
        "---------\n",
        "\n",
        "By construction, this dataset might contain a lot of overlapping samples, including training data that's also contained in the validation and test set! Overlap between training and test can skew the results if you expect to use your model in an environment where there is never an overlap, but are actually ok if you expect to see training samples recur when you use it.\n",
        "Measure how much overlap there is between training, validation and test samples.\n",
        "\n",
        "Optional questions:\n",
        "- What about near duplicates between datasets? (images that are almost identical)\n",
        "- Create a sanitized validation and test set, and compare your accuracy on those in subsequent assignments.\n",
        "---"
      ]
    },
    {
      "cell_type": "code",
      "execution_count": 13,
      "metadata": {
        "colab": {
          "base_uri": "https://localhost:8080/"
        },
        "id": "8LP7UIClBlC4",
        "outputId": "ef274218-0da1-46e1-81ba-11628417beef"
      },
      "outputs": [
        {
          "output_type": "stream",
          "name": "stdout",
          "text": [
            "Time: 1.39s\n",
            "\n",
            "Total Validation size 10000\n",
            "Validation size without duplicates 8881\n",
            "\n",
            "Total Test size 10000\n",
            "Test size without duplicates 8679\n"
          ]
        }
      ],
      "source": [
        "##########################################\n",
        "# --- example solution for Problem 5 --- #\n",
        "##########################################\n",
        "\n",
        "# solution adapted from https://discussions.udacity.com/t/assignment-1-problem-5/45657/19\n",
        "import time\n",
        "import hashlib\n",
        "\n",
        "t1 = time.time()\n",
        "\n",
        "# calculate hash for each image\n",
        "#Minimizer to avoid pairwise comparison of all pixels between images - https://cp-algorithms.com/string/string-hashing.html\n",
        "# https://docs.python.org/2/library/hashlib.html\n",
        "train_hashes = [hashlib.sha1(x).digest() for x in train_dataset]\n",
        "valid_hashes = [hashlib.sha1(x).digest() for x in valid_dataset]\n",
        "test_hashes  = [hashlib.sha1(x).digest() for x in test_dataset]\n",
        "\n",
        "# find intersections\n",
        "# http://docs.scipy.org/doc/numpy-1.10.1/reference/generated/numpy.in1d.html - accepts 1-D nparray-like iterables (e.g. lists)\n",
        "valid_in_train = np.in1d(valid_hashes, train_hashes)\n",
        "valid_in_test = np.in1d(valid_hashes, test_hashes)\n",
        "test_in_train  = np.in1d(test_hashes,  train_hashes)\n",
        "test_in_valid  = np.in1d(test_hashes,  valid_hashes)\n",
        "\n",
        "# remove duplicates ()\n",
        "valid_keep = ~(valid_in_train | valid_in_test) #Return array of booleans for images that are not in training or test dataset (index defines label)\n",
        "test_keep  = ~(test_in_train | test_in_valid) #Return array of booleans for images that are not in training or validation dataset (index defines label)\n",
        "\n",
        "#Filtering duplicates\n",
        "valid_dataset_clean = valid_dataset[valid_keep]\n",
        "valid_labels_clean  = valid_labels [valid_keep]\n",
        "\n",
        "test_dataset_clean = test_dataset[test_keep]\n",
        "test_labels_clean  = test_labels [test_keep]\n",
        "\n",
        "t2 = time.time()\n",
        "\n",
        "print(\"Time: %0.2fs\\n\" % (t2 - t1))\n",
        "\n",
        "print(\"Total Validation size %d\" % valid_dataset.shape[0])\n",
        "print(\"Validation size without duplicates %d\\n\" % valid_dataset_clean.shape[0])\n",
        "\n",
        "print(\"Total Test size %d\" % test_dataset.shape[0])\n",
        "print(\"Test size without duplicates %d\" % test_dataset_clean.shape[0])"
      ]
    },
    {
      "cell_type": "code",
      "execution_count": 14,
      "metadata": {
        "id": "iV6tMeAqBlC4"
      },
      "outputs": [],
      "source": [
        "#Saving clean data\n",
        "pickle_file = 'notMNIST.pickle'\n",
        "\n",
        "try:\n",
        "    f = open(pickle_file, 'wb')\n",
        "    save = {\n",
        "        'train_dataset': train_dataset,\n",
        "        'train_labels': train_labels,\n",
        "        'valid_dataset': valid_dataset_clean,\n",
        "        'valid_labels': valid_labels_clean,\n",
        "        'test_dataset': test_dataset_clean,\n",
        "        'test_labels': test_labels_clean,\n",
        "        }\n",
        "    pickle.dump(save, f, pickle.HIGHEST_PROTOCOL)\n",
        "    f.close()\n",
        "except Exception as e:\n",
        "    print('Unable to save data to', pickle_file, ':', e)\n",
        "    raise"
      ]
    },
    {
      "cell_type": "markdown",
      "metadata": {
        "id": "L8oww1s4JMQx"
      },
      "source": [
        "---\n",
        "Problem 6\n",
        "---------\n",
        "\n",
        "Let's get an idea of what an off-the-shelf classifier can give you on this data. It's always good to check that there is something to learn, and that it's a problem that is not so trivial that a canned solution solves it.\n",
        "\n",
        "Train a simple model on this data using 50, 100, 1000 and 5000 training samples. Hint: you can use the LogisticRegression model from sklearn.linear_model.\n",
        "\n",
        "Optional question: train an off-the-shelf model on all the data!\n",
        "\n",
        "---"
      ]
    },
    {
      "cell_type": "code",
      "execution_count": 15,
      "metadata": {
        "colab": {
          "base_uri": "https://localhost:8080/"
        },
        "id": "HVQy31ADBlC5",
        "outputId": "872971a6-aaa3-48a3-c803-20c0a16b3b98"
      },
      "outputs": [
        {
          "output_type": "stream",
          "name": "stdout",
          "text": [
            "Training set (200000, 28, 28) (200000,)\n",
            "Validation set (8881, 28, 28) (8881,)\n",
            "Test set (8679, 28, 28) (8679,)\n"
          ]
        }
      ],
      "source": [
        "##########################################\n",
        "# --- example solution for Problem 6 --- #\n",
        "##########################################\n",
        "\n",
        "# reaload data from pickle\n",
        "pickle_file = 'notMNIST.pickle'\n",
        "\n",
        "with open(pickle_file, 'rb') as f:\n",
        "    save = pickle.load(f)\n",
        "    train_dataset = save['train_dataset']\n",
        "    train_labels = save['train_labels']\n",
        "    valid_dataset = save['valid_dataset']\n",
        "    valid_labels = save['valid_labels']\n",
        "    test_dataset = save['test_dataset']\n",
        "    test_labels = save['test_labels']\n",
        "    del save  # hint to help gc free up memory\n",
        "    print('Training set', train_dataset.shape, train_labels.shape)\n",
        "    print('Validation set', valid_dataset.shape, valid_labels.shape)\n",
        "    print('Test set', test_dataset.shape, test_labels.shape)"
      ]
    },
    {
      "cell_type": "markdown",
      "metadata": {
        "id": "kR-4eNdK6lYS"
      },
      "source": [
        "Deep Learning\n",
        "=============\n",
        "\n",
        "Assignment 2\n",
        "------------\n",
        "\n",
        "Previously in `1_notmnist.ipynb`, we created a pickle with formatted datasets for training, development and testing on the [notMNIST dataset](http://yaroslavvb.blogspot.com/2011/09/notmnist-dataset.html).\n",
        "\n",
        "The goal of this assignment is to progressively train deeper and more accurate models using TensorFlow."
      ]
    },
    {
      "cell_type": "code",
      "execution_count": 16,
      "metadata": {
        "cellView": "both",
        "colab": {
          "base_uri": "https://localhost:8080/"
        },
        "id": "JLpLa8Jt7Vu4",
        "outputId": "7d749a04-e67b-47ac-d619-59bcf850d82c"
      },
      "outputs": [
        {
          "output_type": "stream",
          "name": "stdout",
          "text": [
            "WARNING:tensorflow:From /usr/local/lib/python3.7/dist-packages/tensorflow/python/compat/v2_compat.py:107: disable_resource_variables (from tensorflow.python.ops.variable_scope) is deprecated and will be removed in a future version.\n",
            "Instructions for updating:\n",
            "non-resource variables are not supported in the long term\n"
          ]
        }
      ],
      "source": [
        "# These are all the modules we'll be using later. Make sure you can import them\n",
        "# before proceeding further.\n",
        "from __future__ import print_function\n",
        "import numpy as np\n",
        "#import tensorflow as tf\n",
        "\n",
        "import tensorflow.compat.v1 as tf\n",
        "tf.disable_v2_behavior()\n",
        "\n",
        "from six.moves import cPickle as pickle\n",
        "from six.moves import range"
      ]
    },
    {
      "cell_type": "markdown",
      "metadata": {
        "id": "1HrCK6e17WzV"
      },
      "source": [
        "First reload the data we generated in `1_notmnist.ipynb`."
      ]
    },
    {
      "cell_type": "code",
      "execution_count": 17,
      "metadata": {
        "cellView": "both",
        "colab": {
          "base_uri": "https://localhost:8080/"
        },
        "id": "y3-cj1bpmuxc",
        "outputId": "54834e50-46b3-49b0-935d-5ce39de3dd5d"
      },
      "outputs": [
        {
          "output_type": "stream",
          "name": "stdout",
          "text": [
            "Training set (200000, 28, 28) (200000,)\n",
            "Validation set (8881, 28, 28) (8881,)\n",
            "Test set (8679, 28, 28) (8679,)\n"
          ]
        }
      ],
      "source": [
        "pickle_file = 'notMNIST.pickle'\n",
        "\n",
        "with open(pickle_file, 'rb') as f:\n",
        "  save = pickle.load(f)\n",
        "  train_dataset = save['train_dataset']\n",
        "  train_labels = save['train_labels']\n",
        "  valid_dataset = save['valid_dataset']\n",
        "  valid_labels = save['valid_labels']\n",
        "  test_dataset = save['test_dataset']\n",
        "  test_labels = save['test_labels']\n",
        "  del save  # hint to help gc free up memory\n",
        "  print('Training set', train_dataset.shape, train_labels.shape)\n",
        "  print('Validation set', valid_dataset.shape, valid_labels.shape)\n",
        "  print('Test set', test_dataset.shape, test_labels.shape)"
      ]
    },
    {
      "cell_type": "markdown",
      "metadata": {
        "id": "L7aHrm6nGDMB"
      },
      "source": [
        "Reformat into a shape that's more adapted to the models we're going to train:\n",
        "- data as a flat matrix,\n",
        "- labels as float 1-hot encodings."
      ]
    },
    {
      "cell_type": "code",
      "execution_count": 18,
      "metadata": {
        "cellView": "both",
        "colab": {
          "base_uri": "https://localhost:8080/"
        },
        "id": "IRSyYiIIGIzS",
        "outputId": "695a152b-0298-4ef0-f33b-799111798c02"
      },
      "outputs": [
        {
          "output_type": "stream",
          "name": "stdout",
          "text": [
            "Training set (200000, 784) (200000, 10)\n",
            "Validation set (8881, 784) (8881, 10)\n",
            "Test set (8679, 784) (8679, 10)\n"
          ]
        }
      ],
      "source": [
        "#Good review of one-hot encoding: https://machinelearningmastery.com/why-one-hot-encode-data-in-machine-learning/\n",
        "\n",
        "image_size = 28\n",
        "num_labels = 10\n",
        "\n",
        "def reformat(dataset, labels):\n",
        "  dataset = dataset.reshape((-1, image_size * image_size)).astype(np.float32) #Flatten 2D image array to 1D image array for every label\n",
        "  #Ref: https://stackoverflow.com/questions/18691084/what-does-1-mean-in-numpy-reshape\n",
        "  # Map 0 to [1.0, 0.0, 0.0 ...], 1 to [0.0, 1.0, 0.0 ...]\n",
        "  #Broadcasting - \"extending\" the dimension of labels to produce enough values to allow matrix operations (Slicing nparray with None or np.newaxis)\n",
        "  ##https://numpy.org/doc/stable/user/basics.broadcasting.html\n",
        "  labels = (np.arange(num_labels) == labels[:,None]).astype(np.float32) #Generating array of booleans and converting them to np.float32 for each label for each image\n",
        "  return dataset, labels\n",
        "\n",
        "#Switching to one-hot encoding on all data subsets\n",
        "train_dataset, train_labels = reformat(train_dataset, train_labels)\n",
        "valid_dataset, valid_labels = reformat(valid_dataset, valid_labels)\n",
        "test_dataset, test_labels = reformat(test_dataset, test_labels)\n",
        "print('Training set', train_dataset.shape, train_labels.shape)\n",
        "print('Validation set', valid_dataset.shape, valid_labels.shape)\n",
        "print('Test set', test_dataset.shape, test_labels.shape)"
      ]
    },
    {
      "cell_type": "markdown",
      "metadata": {
        "id": "nCLVqyQ5vPPH"
      },
      "source": [
        "We're first going to train a multinomial logistic regression using simple gradient descent.\n",
        "\n",
        "TensorFlow works like this:\n",
        "* First you describe the computation that you want to see performed: what the inputs, the variables, and the operations look like. These get created as nodes over a computation graph. This description is all contained within the block below:\n",
        "\n",
        "      with graph.as_default():\n",
        "          ...\n",
        "\n",
        "* Then you can run the operations on this graph as many times as you want by calling `session.run()`, providing it outputs to fetch from the graph that get returned. This runtime operation is all contained in the block below:\n",
        "\n",
        "      with tf.Session(graph=graph) as session:\n",
        "          ...\n",
        "\n",
        "Let's load all the data into TensorFlow and build the computation graph corresponding to our training:"
      ]
    },
    {
      "cell_type": "code",
      "execution_count": 19,
      "metadata": {
        "cellView": "both",
        "id": "Nfv39qvtvOl_",
        "colab": {
          "base_uri": "https://localhost:8080/"
        },
        "outputId": "c49ceec2-1e44-4c07-c73c-ae4738b8ba98"
      },
      "outputs": [
        {
          "output_type": "stream",
          "name": "stdout",
          "text": [
            "WARNING:tensorflow:From /usr/local/lib/python3.7/dist-packages/tensorflow/python/util/dispatch.py:1082: softmax_cross_entropy_with_logits (from tensorflow.python.ops.nn_ops) is deprecated and will be removed in a future version.\n",
            "Instructions for updating:\n",
            "\n",
            "Future major versions of TensorFlow will allow gradients to flow\n",
            "into the labels input on backprop by default.\n",
            "\n",
            "See `tf.nn.softmax_cross_entropy_with_logits_v2`.\n",
            "\n"
          ]
        }
      ],
      "source": [
        "# With gradient descent training, even this much data is prohibitive.\n",
        "# Subset the training data for faster turnaround.\n",
        "train_subset = 10000\n",
        "\n",
        "graph = tf.Graph()\n",
        "with graph.as_default():\n",
        "\n",
        "  # Input data.\n",
        "  # Load the training, validation and test data into constants that are\n",
        "  # attached to the graph.\n",
        "  tf_train_dataset = tf.constant(train_dataset[:train_subset, :]) #Constants will not save history - not to be updated (https://www.tensorflow.org/api_docs/python/tf/constant)\n",
        "  tf_train_labels = tf.constant(train_labels[:train_subset])\n",
        "  tf_valid_dataset = tf.constant(valid_dataset)\n",
        "  tf_test_dataset = tf.constant(test_dataset)\n",
        "  \n",
        "  # Variables.\n",
        "  # These are the parameters that we are going to be training. The weight\n",
        "  # matrix will be initialized using random values following a (truncated)\n",
        "  # normal distribution. The biases get initialized to zero.\n",
        "  weights = tf.Variable(\n",
        "    tf.truncated_normal([image_size * image_size, num_labels])) #https://www.tensorflow.org/api_docs/python/tf/random/truncated_normal - list defines shape of the output matrix\n",
        "    #total number of pixels per image * number of different labels = 256*256*10\n",
        "  biases = tf.Variable(tf.zeros([num_labels])) #one bias for each label\n",
        "  \n",
        "  # Training computation.\n",
        "  # We multiply the inputs with the weight matrix, and add biases. We compute\n",
        "  # the softmax and cross-entropy (it's one operation in TensorFlow, because\n",
        "  # it's very common, and it can be optimized). We take the average of this\n",
        "  # cross-entropy across all training examples: that's our loss.\n",
        "  # Useful links: https://machinelearningmastery.com/cross-entropy-for-machine-learning/\n",
        "  # https://analyticsindiamag.com/a-beginners-guide-to-cross-entropy-in-machine-learning/#:~:text=The%20average%20number%20of%20bits,of%20actual%20and%20expected%20results.\n",
        "  # https://datascience.stackexchange.com/questions/31041/what-does-logits-in-machine-learning-mean\n",
        "  # https://www.analyticsvidhya.com/blog/2021/04/introduction-to-softmax-for-neural-network/\n",
        "\n",
        "  logits = tf.matmul(tf_train_dataset, weights) + biases #Linear combination without activation function applied\n",
        "  loss = tf.reduce_mean(tf.nn.softmax_cross_entropy_with_logits(labels=tf_train_labels, logits=logits)) #A python function \n",
        "  #Averages cross-entropy (loss) value for all data for given training iteration:\n",
        "  #https://www.tensorflow.org/api_docs/python/tf/math/reduce_mean\n",
        "  #https://www.tensorflow.org/api_docs/python/tf/nn/softmax_cross_entropy_with_logits\n",
        "  \n",
        "  # Optimizer.\n",
        "  # We are going to find the minimum of this loss using gradient descent.\n",
        "  learning_rate = 0.5 #gradient descent \"heap\" size\n",
        "  optimizer = tf.train.GradientDescentOptimizer(learning_rate).minimize(loss) \n",
        "  #Function is used to compute gradient descend and store history to allow for backpropagation in order to minimize loss function: https://www.tensorflow.org/api_docs/python/tf/compat/v1/train/GradientDescentOptimizer#minimize\n",
        "  \n",
        "  # Predictions for the training, validation, and test data.\n",
        "  # These are not part of training, but merely here so that we can report\n",
        "  # accuracy figures as we train.\n",
        "  train_prediction = tf.nn.softmax(logits) #network output bordered from 0 to 1 to allow interpretation in terms of probability of the label corresponding to the image\n",
        "  #https://www.tensorflow.org/api_docs/python/tf/nn/softmax\n",
        "  valid_prediction = tf.nn.softmax(tf.matmul(tf_valid_dataset, weights) + biases) #Network output on validation dataset\n",
        "  test_prediction = tf.nn.softmax(tf.matmul(tf_test_dataset, weights) + biases) #Network output on test dataset"
      ]
    },
    {
      "cell_type": "markdown",
      "metadata": {
        "id": "KQcL4uqISHjP"
      },
      "source": [
        "Let's run this computation and iterate:"
      ]
    },
    {
      "cell_type": "code",
      "execution_count": 20,
      "metadata": {
        "cellView": "both",
        "colab": {
          "base_uri": "https://localhost:8080/"
        },
        "id": "z2cjdenH869W",
        "outputId": "316832cb-9fb7-4a82-baa2-752a890bff60"
      },
      "outputs": [
        {
          "output_type": "stream",
          "name": "stdout",
          "text": [
            "Initialized\n",
            "Loss at step 0: 21.026276\n",
            "Training accuracy: 8.0%\n",
            "Validation accuracy: 11.6%\n",
            "\n",
            "Loss at step 100: 2.386050\n",
            "Training accuracy: 71.4%\n",
            "Validation accuracy: 69.5%\n",
            "\n",
            "Loss at step 200: 1.887607\n",
            "Training accuracy: 74.4%\n",
            "Validation accuracy: 71.9%\n",
            "\n",
            "Loss at step 300: 1.636586\n",
            "Training accuracy: 75.8%\n",
            "Validation accuracy: 72.8%\n",
            "\n",
            "Loss at step 400: 1.471846\n",
            "Training accuracy: 76.5%\n",
            "Validation accuracy: 73.0%\n",
            "\n",
            "Loss at step 500: 1.349764\n",
            "Training accuracy: 77.0%\n",
            "Validation accuracy: 73.3%\n",
            "\n",
            "Loss at step 600: 1.253375\n",
            "Training accuracy: 77.6%\n",
            "Validation accuracy: 73.7%\n",
            "\n",
            "Loss at step 700: 1.174422\n",
            "Training accuracy: 78.2%\n",
            "Validation accuracy: 73.8%\n",
            "\n",
            "Loss at step 800: 1.108177\n",
            "Training accuracy: 78.6%\n",
            "Validation accuracy: 74.0%\n",
            "\n",
            "Test accuracy: 81.3%\n"
          ]
        }
      ],
      "source": [
        "num_steps = 801 #How many times the training dataset goes through the network (training epochs)\n",
        "\n",
        "def accuracy(predictions, labels):\n",
        "  #Accurate prediction: predicted label matches true label in test dataset\n",
        "  #https://numpy.org/doc/stable/reference/generated/numpy.argmax.html#numpy.argmax:\n",
        "  #1) find index of the maximum softmax value in prediction - most probable lable \n",
        "  #2) find index of the true lable (can be done with argmax because labels are one-hot encoded and anywhere except true label value is 0)\n",
        "  #3) if indeces match - prediction is accurate - boolean test - if prediction is accurate, value is True, else - False\n",
        "  #4) summing over array of booleans gives number of true in the array - number of accurately predicted samples\n",
        "  #5) prediction.shape[0] gives the size of the prediction matrix (total number of predictions)\n",
        "  #6) x100 allows to get % of accurately classified images\n",
        "  return (100.0 * np.sum(np.argmax(predictions, 1) == np.argmax(labels, 1))\n",
        "          / predictions.shape[0])\n",
        "\n",
        "with tf.Session(graph=graph) as session:\n",
        "  # This is a one-time operation which ensures the parameters get initialized as\n",
        "  # we described in the graph: random weights for the matrix, zeros for the\n",
        "  # biases. \n",
        "  tf.global_variables_initializer().run()\n",
        "  print('Initialized')\n",
        "  for step in range(num_steps): #Perform network training form number of epochs\n",
        "    # Run the computations. We tell .run() that we want to run the optimizer,\n",
        "    # and get the loss value and the training predictions returned as numpy\n",
        "    # arrays.\n",
        "    _, l, predictions = session.run([optimizer, loss, train_prediction])\n",
        "    #Fetching data required to estimate accuracy after each training iteration\n",
        "    if (step % 100 == 0): #Report loss at every 100th epoch\n",
        "      print('Loss at step %d: %f' % (step, l))\n",
        "      print('Training accuracy: %.1f%%' % accuracy(\n",
        "        predictions, train_labels[:train_subset, :]))\n",
        "      # Calling .eval() on valid_prediction is basically like calling run(), but\n",
        "      # just to get that one numpy array. Note that it recomputes all its graph\n",
        "      # dependencies.\n",
        "      print('Validation accuracy: %.1f%%\\n' % accuracy(\n",
        "        valid_prediction.eval(), valid_labels))\n",
        "  print('Test accuracy: %.1f%%' % accuracy(test_prediction.eval(), test_labels))"
      ]
    },
    {
      "cell_type": "markdown",
      "metadata": {
        "id": "x68f-hxRGm3H"
      },
      "source": [
        "Let's now switch to stochastic gradient descent training instead, which is much faster.\n",
        "\n",
        "The graph will be similar, except that instead of holding all the training data into a constant node, we create a `Placeholder` node which will be fed actual data at every call of `session.run()`."
      ]
    },
    {
      "cell_type": "code",
      "execution_count": 21,
      "metadata": {
        "cellView": "both",
        "id": "qhPMzWYRGrzM"
      },
      "outputs": [],
      "source": [
        "batch_size = 128 #Subsample data, as much less data is required to train sgd (10000 for gd)\n",
        "\n",
        "graph = tf.Graph() #Init computation graph\n",
        "with graph.as_default(): \n",
        "\n",
        "  # Input data. For the training data, we use a placeholder that will be fed\n",
        "  # at run time with a training minibatch.\n",
        "  tf_train_dataset = tf.placeholder(tf.float32,\n",
        "                                    shape=(batch_size, image_size * image_size)) #Node used to subsample dataset (Tensor that stores subsample of batch size of image data)\n",
        "  tf_train_labels = tf.placeholder(tf.float32, shape=(batch_size, num_labels)) #Node used to subsample labels (Tensor that stores subsample of batch size of image labels)\n",
        "  # Loading validation & testing datasets\n",
        "  tf_valid_dataset = tf.constant(valid_dataset) \n",
        "  tf_test_dataset = tf.constant(test_dataset)\n",
        "  \n",
        "  # Variables.\n",
        "  weights = tf.Variable(\n",
        "    tf.truncated_normal([image_size * image_size, num_labels])) #Single hidden layer\n",
        "  biases = tf.Variable(tf.zeros([num_labels]))\n",
        "  \n",
        "  # Training computation.\n",
        "  logits = tf.matmul(tf_train_dataset, weights) + biases \n",
        "  loss = tf.reduce_mean(\n",
        "    tf.nn.softmax_cross_entropy_with_logits(labels=tf_train_labels, logits=logits))\n",
        "  \n",
        "  # Optimizer.\n",
        "  learning_rate_sgd = 0.5\n",
        "  optimizer = tf.train.GradientDescentOptimizer(learning_rate_sgd).minimize(loss)\n",
        "  \n",
        "  # Predictions for the training, validation, and test data.\n",
        "  train_prediction = tf.nn.softmax(logits)\n",
        "  valid_prediction = tf.nn.softmax(\n",
        "    tf.matmul(tf_valid_dataset, weights) + biases)\n",
        "  test_prediction = tf.nn.softmax(tf.matmul(tf_test_dataset, weights) + biases)"
      ]
    },
    {
      "cell_type": "markdown",
      "metadata": {
        "id": "XmVZESmtG4JH"
      },
      "source": [
        "Let's run it:"
      ]
    },
    {
      "cell_type": "code",
      "execution_count": 22,
      "metadata": {
        "cellView": "both",
        "colab": {
          "base_uri": "https://localhost:8080/"
        },
        "id": "FoF91pknG_YW",
        "outputId": "7073f43b-2c5f-4c16-9110-57dd8cecb7c7"
      },
      "outputs": [
        {
          "output_type": "stream",
          "name": "stdout",
          "text": [
            "Initialized\n",
            "Minibatch loss at step 0: 14.210457\n",
            "Minibatch accuracy: 16.4%\n",
            "Validation accuracy: 18.1%\n",
            "\n",
            "Minibatch loss at step 500: 1.187820\n",
            "Minibatch accuracy: 81.2%\n",
            "Validation accuracy: 74.1%\n",
            "\n",
            "Minibatch loss at step 1000: 1.695266\n",
            "Minibatch accuracy: 74.2%\n",
            "Validation accuracy: 74.7%\n",
            "\n",
            "Minibatch loss at step 1500: 1.367056\n",
            "Minibatch accuracy: 75.8%\n",
            "Validation accuracy: 75.8%\n",
            "\n",
            "Minibatch loss at step 2000: 1.089798\n",
            "Minibatch accuracy: 78.1%\n",
            "Validation accuracy: 76.4%\n",
            "\n",
            "Minibatch loss at step 2500: 0.748621\n",
            "Minibatch accuracy: 83.6%\n",
            "Validation accuracy: 77.3%\n",
            "\n",
            "Minibatch loss at step 3000: 1.107441\n",
            "Minibatch accuracy: 73.4%\n",
            "Validation accuracy: 77.0%\n",
            "\n",
            "Test accuracy: 84.4%\n"
          ]
        }
      ],
      "source": [
        "num_steps = 3001 \n",
        "\n",
        "with tf.Session(graph=graph) as session:\n",
        "  tf.global_variables_initializer().run()\n",
        "  print(\"Initialized\")\n",
        "  for step in range(num_steps):\n",
        "    # Pick an offset within the training data, which has been randomized.\n",
        "    # Note: we could use better randomization across epochs.\n",
        "    offset = (step * batch_size) % (train_labels.shape[0] - batch_size)\n",
        "    # Generate a minibatch.\n",
        "    batch_data = train_dataset[offset:(offset + batch_size), :]\n",
        "    batch_labels = train_labels[offset:(offset + batch_size), :]\n",
        "    # Prepare a dictionary telling the session where to feed the minibatch.\n",
        "    # The key of the dictionary is the placeholder node of the graph to be fed,\n",
        "    # and the value is the numpy array to feed to it.\n",
        "    feed_dict = {tf_train_dataset : batch_data, tf_train_labels : batch_labels}\n",
        "    _, l, predictions = session.run(\n",
        "      [optimizer, loss, train_prediction], feed_dict=feed_dict)\n",
        "    if (step % 500 == 0):\n",
        "      print(\"Minibatch loss at step %d: %f\" % (step, l))\n",
        "      print(\"Minibatch accuracy: %.1f%%\" % accuracy(predictions, batch_labels))\n",
        "      print(\"Validation accuracy: %.1f%%\\n\" % accuracy(\n",
        "        valid_prediction.eval(), valid_labels))\n",
        "  print(\"Test accuracy: %.1f%%\" % accuracy(test_prediction.eval(), test_labels))"
      ]
    },
    {
      "cell_type": "markdown",
      "metadata": {
        "id": "7omWxtvLLxik"
      },
      "source": [
        "---\n",
        "Problem\n",
        "-------\n",
        "\n",
        "Turn the logistic regression example with SGD into a 1-hidden layer neural network with rectified linear units [nn.relu()](https://www.tensorflow.org/versions/r0.7/api_docs/python/nn.html#relu) and 1024 hidden nodes. This model should improve your validation / test accuracy.\n",
        "\n",
        "---"
      ]
    },
    {
      "cell_type": "code",
      "execution_count": 23,
      "metadata": {
        "id": "DPC-jlnTBlC7"
      },
      "outputs": [],
      "source": [
        "########################################\n",
        "# --- example solution for Problem --- #\n",
        "########################################"
      ]
    },
    {
      "cell_type": "markdown",
      "metadata": {
        "id": "MWL0cLcQBlC7"
      },
      "source": [
        "Load all the data into TensorFlow and build the computation graph:"
      ]
    },
    {
      "cell_type": "code",
      "execution_count": 24,
      "metadata": {
        "id": "VSJCCPp2BlC8"
      },
      "outputs": [],
      "source": [
        "###Defining hyperparameters\n",
        "batch_size = 500 #Size of the subsample of images used in training during each iteration\n",
        "dropout_rate = 0.125\n",
        "hidden_layer_size_1 = 500 #Number of nodes in hidden layer\n",
        "hidden_layer_size_2 = 500\n",
        "\n",
        "###Useful links: \n",
        "\"\"\"\n",
        "  https://www.deeplearning.ai/ai-notes/optimization/ - visulizing hyperparameter effects\n",
        "  https://www.youtube.com/watch?v=1waHlpKiNyY&list=PLkDaE6sCZn6Hn0vK8co82zjQtt3T2Nkqc - more on hyperparameter tuning\n",
        "  https://www.tutorialexample.com/initialize-tensorflow-weights-using-xavier-initialization-a-beginner-guide-tensorflow-tutorial/ - Xavier initialization of weights in tensorflow\n",
        "  https://www.tensorflow.org/api_docs/python/tf/nn/dropout - dropout in tensorflow\n",
        "\"\"\"\n",
        "\n",
        "###Defining computational graph\n",
        "graph = tf.Graph()\n",
        "with graph.as_default():\n",
        "\n",
        "  # Input data. For the training data, we use a placeholder that will be fed\n",
        "  # at run time with a training minibatch.\n",
        "  tf_train_dataset = tf.placeholder(tf.float32, shape=(batch_size, image_size * image_size))\n",
        "  tf_train_labels = tf.placeholder(tf.float32, shape=(batch_size, num_labels))\n",
        "  tf_valid_dataset = tf.constant(valid_dataset)\n",
        "  tf_test_dataset = tf.constant(test_dataset)\n",
        "  \n",
        "  # Hidden layer 1 - variables.\n",
        "  #Using Xavier initialization of weights\n",
        "  weights_h_1 = tf.get_variable('w1', shape = [image_size * image_size, hidden_layer_size_1])  \n",
        "  biases_h_1 = tf.Variable(tf.zeros([hidden_layer_size_1]))\n",
        "    \n",
        "  # Hidden layer 2 - variables.\n",
        "  weights_h_2 = tf.get_variable('w2', shape = [hidden_layer_size_1, hidden_layer_size_2])\n",
        "  biases_h_2 = tf.Variable(tf.zeros([hidden_layer_size_2]))\n",
        "\n",
        "  # Output layer - variables.\n",
        "  weights_out = tf.get_variable('w_o', shape = [hidden_layer_size_2, num_labels])\n",
        "  biases_out = tf.Variable(tf.zeros([num_labels]))\n",
        "  \n",
        "  # Training computation.\n",
        "  def compute_logits(inputs):\n",
        "    hidden_layer_1 = tf.nn.dropout(tf.nn.relu(tf.matmul(inputs, weights_h_1) + biases_h_1), rate = dropout_rate, seed=1) #Compute output of the hidden layer 1 with dropout\n",
        "    hidden_layer_2 = tf.nn.dropout(tf.nn.relu(tf.matmul(hidden_layer_1, weights_h_2) + biases_h_2), rate = dropout_rate, seed=1) #Compute output of the hidden layer 2 with dropout\n",
        "    logits = tf.matmul(hidden_layer_2, weights_out) + biases_out #Compute output of the final layer (to be 'fed' to softmax)\n",
        "    return logits \n",
        "  \n",
        "  logits = compute_logits(tf_train_dataset)\n",
        "  loss = tf.reduce_mean(tf.nn.softmax_cross_entropy_with_logits(labels=tf_train_labels, logits=logits)) #Compute cross-entropy function and average accross output layer nodes\n",
        "  \n",
        "  # Optimizer.\n",
        "  learning_rate = 0.7\n",
        "  optimizer = tf.train.GradientDescentOptimizer(learning_rate).minimize(loss) #Model to train\n",
        "  \n",
        "  # Predictions for the training, validation, and test data.\n",
        "  train_prediction = tf.nn.softmax(logits)\n",
        "  valid_prediction = tf.nn.softmax(compute_logits(tf_valid_dataset))\n",
        "  test_prediction = tf.nn.softmax(compute_logits(tf_test_dataset))\n",
        "\n",
        "  "
      ]
    },
    {
      "cell_type": "markdown",
      "metadata": {
        "id": "WgKmYOn1BlC8"
      },
      "source": [
        "Run it:"
      ]
    },
    {
      "cell_type": "code",
      "execution_count": 29,
      "metadata": {
        "colab": {
          "base_uri": "https://localhost:8080/",
          "height": 1000
        },
        "id": "GMbZvFL0BlC8",
        "outputId": "e452a96d-bec8-4c31-fd7c-546d4fdeaa0a"
      },
      "outputs": [
        {
          "output_type": "stream",
          "name": "stdout",
          "text": [
            "Initialized\n",
            "Minibatch loss at step 0: 2.382158\n",
            "Minibatch accuracy: 10.4%\n",
            "Validation accuracy: 35.4%\n",
            "\n",
            "Minibatch loss at step 50: 0.607755\n",
            "Minibatch accuracy: 80.4%\n",
            "Validation accuracy: 81.6%\n",
            "\n",
            "Minibatch loss at step 100: 0.546178\n",
            "Minibatch accuracy: 84.6%\n",
            "Validation accuracy: 83.2%\n",
            "\n",
            "Minibatch loss at step 150: 0.516472\n",
            "Minibatch accuracy: 83.8%\n",
            "Validation accuracy: 84.4%\n",
            "\n",
            "Minibatch loss at step 200: 0.500748\n",
            "Minibatch accuracy: 85.4%\n",
            "Validation accuracy: 84.8%\n",
            "\n",
            "Minibatch loss at step 250: 0.496429\n",
            "Minibatch accuracy: 88.2%\n",
            "Validation accuracy: 84.7%\n",
            "\n",
            "Minibatch loss at step 300: 0.507914\n",
            "Minibatch accuracy: 83.8%\n",
            "Validation accuracy: 85.6%\n",
            "\n",
            "Minibatch loss at step 350: 0.408560\n",
            "Minibatch accuracy: 88.4%\n",
            "Validation accuracy: 86.0%\n",
            "\n",
            "Minibatch loss at step 400: 0.431171\n",
            "Minibatch accuracy: 85.6%\n",
            "Validation accuracy: 86.1%\n",
            "\n",
            "Minibatch loss at step 450: 0.420436\n",
            "Minibatch accuracy: 87.6%\n",
            "Validation accuracy: 86.6%\n",
            "\n",
            "Minibatch loss at step 500: 0.398457\n",
            "Minibatch accuracy: 87.6%\n",
            "Validation accuracy: 86.6%\n",
            "\n",
            "Minibatch loss at step 550: 0.359172\n",
            "Minibatch accuracy: 89.4%\n",
            "Validation accuracy: 86.9%\n",
            "\n",
            "Minibatch loss at step 600: 0.384214\n",
            "Minibatch accuracy: 88.0%\n",
            "Validation accuracy: 87.3%\n",
            "\n",
            "Minibatch loss at step 650: 0.382569\n",
            "Minibatch accuracy: 87.4%\n",
            "Validation accuracy: 87.2%\n",
            "\n",
            "Minibatch loss at step 700: 0.356721\n",
            "Minibatch accuracy: 88.0%\n",
            "Validation accuracy: 87.6%\n",
            "\n",
            "Minibatch loss at step 750: 0.417529\n",
            "Minibatch accuracy: 86.2%\n",
            "Validation accuracy: 87.5%\n",
            "\n",
            "Minibatch loss at step 800: 0.381024\n",
            "Minibatch accuracy: 88.2%\n",
            "Validation accuracy: 87.3%\n",
            "\n",
            "Minibatch loss at step 850: 0.359222\n",
            "Minibatch accuracy: 89.0%\n",
            "Validation accuracy: 87.5%\n",
            "\n",
            "Minibatch loss at step 900: 0.385474\n",
            "Minibatch accuracy: 89.0%\n",
            "Validation accuracy: 88.1%\n",
            "\n",
            "Minibatch loss at step 950: 0.395478\n",
            "Minibatch accuracy: 87.6%\n",
            "Validation accuracy: 87.8%\n",
            "\n",
            "Minibatch loss at step 1000: 0.381913\n",
            "Minibatch accuracy: 91.2%\n",
            "Validation accuracy: 87.4%\n",
            "\n",
            "Minibatch loss at step 1050: 0.353225\n",
            "Minibatch accuracy: 90.8%\n",
            "Validation accuracy: 88.3%\n",
            "\n",
            "Minibatch loss at step 1100: 0.336828\n",
            "Minibatch accuracy: 90.0%\n",
            "Validation accuracy: 88.6%\n",
            "\n",
            "Minibatch loss at step 1150: 0.396028\n",
            "Minibatch accuracy: 87.0%\n",
            "Validation accuracy: 88.0%\n",
            "\n",
            "Minibatch loss at step 1200: 0.325451\n",
            "Minibatch accuracy: 89.2%\n",
            "Validation accuracy: 88.1%\n",
            "\n",
            "Minibatch loss at step 1250: 0.240125\n",
            "Minibatch accuracy: 92.4%\n",
            "Validation accuracy: 88.4%\n",
            "\n",
            "Minibatch loss at step 1300: 0.330699\n",
            "Minibatch accuracy: 90.8%\n",
            "Validation accuracy: 88.5%\n",
            "\n",
            "Minibatch loss at step 1350: 0.312835\n",
            "Minibatch accuracy: 89.6%\n",
            "Validation accuracy: 88.5%\n",
            "\n",
            "Minibatch loss at step 1400: 0.358846\n",
            "Minibatch accuracy: 89.0%\n",
            "Validation accuracy: 88.9%\n",
            "\n",
            "Minibatch loss at step 1450: 0.281611\n",
            "Minibatch accuracy: 90.2%\n",
            "Validation accuracy: 88.6%\n",
            "\n",
            "Minibatch loss at step 1500: 0.278711\n",
            "Minibatch accuracy: 92.0%\n",
            "Validation accuracy: 88.6%\n",
            "\n",
            "Minibatch loss at step 1550: 0.300124\n",
            "Minibatch accuracy: 90.8%\n",
            "Validation accuracy: 88.6%\n",
            "\n",
            "Minibatch loss at step 1600: 0.285749\n",
            "Minibatch accuracy: 90.6%\n",
            "Validation accuracy: 88.6%\n",
            "\n",
            "Minibatch loss at step 1650: 0.242729\n",
            "Minibatch accuracy: 91.2%\n",
            "Validation accuracy: 88.8%\n",
            "\n",
            "Minibatch loss at step 1700: 0.306190\n",
            "Minibatch accuracy: 90.6%\n",
            "Validation accuracy: 88.7%\n",
            "\n",
            "Minibatch loss at step 1750: 0.333142\n",
            "Minibatch accuracy: 91.2%\n",
            "Validation accuracy: 88.8%\n",
            "\n",
            "Minibatch loss at step 1800: 0.281787\n",
            "Minibatch accuracy: 91.8%\n",
            "Validation accuracy: 89.0%\n",
            "\n",
            "Minibatch loss at step 1850: 0.328013\n",
            "Minibatch accuracy: 89.8%\n",
            "Validation accuracy: 89.0%\n",
            "\n",
            "Minibatch loss at step 1900: 0.354185\n",
            "Minibatch accuracy: 89.2%\n",
            "Validation accuracy: 89.2%\n",
            "\n",
            "Minibatch loss at step 1950: 0.279441\n",
            "Minibatch accuracy: 91.0%\n",
            "Validation accuracy: 89.2%\n",
            "\n",
            "Minibatch loss at step 2000: 0.264563\n",
            "Minibatch accuracy: 89.6%\n",
            "Validation accuracy: 88.5%\n",
            "\n",
            "Minibatch loss at step 2050: 0.299236\n",
            "Minibatch accuracy: 91.4%\n",
            "Validation accuracy: 88.9%\n",
            "\n",
            "Minibatch loss at step 2100: 0.259205\n",
            "Minibatch accuracy: 92.2%\n",
            "Validation accuracy: 89.1%\n",
            "\n",
            "Minibatch loss at step 2150: 0.240291\n",
            "Minibatch accuracy: 91.2%\n",
            "Validation accuracy: 88.9%\n",
            "\n",
            "Minibatch loss at step 2200: 0.301781\n",
            "Minibatch accuracy: 91.0%\n",
            "Validation accuracy: 88.8%\n",
            "\n",
            "Minibatch loss at step 2250: 0.307731\n",
            "Minibatch accuracy: 90.8%\n",
            "Validation accuracy: 88.9%\n",
            "\n",
            "Minibatch loss at step 2300: 0.243145\n",
            "Minibatch accuracy: 91.8%\n",
            "Validation accuracy: 89.5%\n",
            "\n",
            "Minibatch loss at step 2350: 0.270198\n",
            "Minibatch accuracy: 92.8%\n",
            "Validation accuracy: 88.8%\n",
            "\n",
            "Minibatch loss at step 2400: 0.316091\n",
            "Minibatch accuracy: 89.0%\n",
            "Validation accuracy: 89.0%\n",
            "\n",
            "Minibatch loss at step 2450: 0.233849\n",
            "Minibatch accuracy: 93.2%\n",
            "Validation accuracy: 88.7%\n",
            "\n",
            "Minibatch loss at step 2500: 0.238264\n",
            "Minibatch accuracy: 91.4%\n",
            "Validation accuracy: 88.9%\n",
            "\n",
            "Minibatch loss at step 2550: 0.333471\n",
            "Minibatch accuracy: 89.8%\n",
            "Validation accuracy: 89.3%\n",
            "\n",
            "Minibatch loss at step 2600: 0.328939\n",
            "Minibatch accuracy: 88.8%\n",
            "Validation accuracy: 89.0%\n",
            "\n",
            "Minibatch loss at step 2650: 0.287106\n",
            "Minibatch accuracy: 90.6%\n",
            "Validation accuracy: 89.2%\n",
            "\n",
            "Minibatch loss at step 2700: 0.198743\n",
            "Minibatch accuracy: 93.4%\n",
            "Validation accuracy: 89.6%\n",
            "\n",
            "Minibatch loss at step 2750: 0.247712\n",
            "Minibatch accuracy: 92.4%\n",
            "Validation accuracy: 89.3%\n",
            "\n",
            "Minibatch loss at step 2800: 0.198671\n",
            "Minibatch accuracy: 93.8%\n",
            "Validation accuracy: 89.6%\n",
            "\n",
            "Minibatch loss at step 2850: 0.229476\n",
            "Minibatch accuracy: 93.4%\n",
            "Validation accuracy: 89.3%\n",
            "\n",
            "Minibatch loss at step 2900: 0.249637\n",
            "Minibatch accuracy: 92.2%\n",
            "Validation accuracy: 89.4%\n",
            "\n",
            "Minibatch loss at step 2950: 0.227577\n",
            "Minibatch accuracy: 92.0%\n",
            "Validation accuracy: 89.3%\n",
            "\n",
            "Minibatch loss at step 3000: 0.211467\n",
            "Minibatch accuracy: 93.8%\n",
            "Validation accuracy: 89.2%\n",
            "\n",
            "Minibatch loss at step 3050: 0.257188\n",
            "Minibatch accuracy: 92.0%\n",
            "Validation accuracy: 89.1%\n",
            "\n",
            "Minibatch loss at step 3100: 0.265739\n",
            "Minibatch accuracy: 92.6%\n",
            "Validation accuracy: 89.2%\n",
            "\n",
            "Minibatch loss at step 3150: 0.203711\n",
            "Minibatch accuracy: 93.0%\n",
            "Validation accuracy: 89.3%\n",
            "\n",
            "Minibatch loss at step 3200: 0.277317\n",
            "Minibatch accuracy: 91.6%\n",
            "Validation accuracy: 89.2%\n",
            "\n",
            "Minibatch loss at step 3250: 0.231069\n",
            "Minibatch accuracy: 92.4%\n",
            "Validation accuracy: 89.5%\n",
            "\n",
            "Minibatch loss at step 3300: 0.203197\n",
            "Minibatch accuracy: 93.8%\n",
            "Validation accuracy: 89.6%\n",
            "\n",
            "Minibatch loss at step 3350: 0.218326\n",
            "Minibatch accuracy: 92.8%\n",
            "Validation accuracy: 89.3%\n",
            "\n",
            "Minibatch loss at step 3400: 0.235287\n",
            "Minibatch accuracy: 91.0%\n",
            "Validation accuracy: 89.4%\n",
            "\n",
            "Minibatch loss at step 3450: 0.224297\n",
            "Minibatch accuracy: 92.8%\n",
            "Validation accuracy: 89.0%\n",
            "\n",
            "Minibatch loss at step 3500: 0.193903\n",
            "Minibatch accuracy: 94.0%\n",
            "Validation accuracy: 89.0%\n",
            "\n",
            "Minibatch loss at step 3550: 0.255819\n",
            "Minibatch accuracy: 92.4%\n",
            "Validation accuracy: 89.5%\n",
            "\n",
            "Minibatch loss at step 3600: 0.186515\n",
            "Minibatch accuracy: 94.2%\n",
            "Validation accuracy: 89.3%\n",
            "\n",
            "Minibatch loss at step 3650: 0.223367\n",
            "Minibatch accuracy: 93.8%\n",
            "Validation accuracy: 89.3%\n",
            "\n",
            "Minibatch loss at step 3700: 0.213748\n",
            "Minibatch accuracy: 93.2%\n",
            "Validation accuracy: 89.7%\n",
            "\n",
            "Minibatch loss at step 3750: 0.256298\n",
            "Minibatch accuracy: 91.4%\n",
            "Validation accuracy: 89.2%\n",
            "\n",
            "Minibatch loss at step 3800: 0.209581\n",
            "Minibatch accuracy: 94.2%\n",
            "Validation accuracy: 89.8%\n",
            "\n",
            "Minibatch loss at step 3850: 0.218183\n",
            "Minibatch accuracy: 93.0%\n",
            "Validation accuracy: 89.3%\n",
            "\n",
            "Minibatch loss at step 3900: 0.241472\n",
            "Minibatch accuracy: 93.0%\n",
            "Validation accuracy: 89.4%\n",
            "\n",
            "Minibatch loss at step 3950: 0.199338\n",
            "Minibatch accuracy: 92.6%\n",
            "Validation accuracy: 89.4%\n",
            "\n",
            "Minibatch loss at step 4000: 0.230181\n",
            "Minibatch accuracy: 93.6%\n",
            "Validation accuracy: 89.4%\n",
            "\n",
            "Minibatch loss at step 4050: 0.204341\n",
            "Minibatch accuracy: 92.6%\n",
            "Validation accuracy: 89.7%\n",
            "\n",
            "Minibatch loss at step 4100: 0.245084\n",
            "Minibatch accuracy: 92.8%\n",
            "Validation accuracy: 89.3%\n",
            "\n",
            "Minibatch loss at step 4150: 0.204141\n",
            "Minibatch accuracy: 93.8%\n",
            "Validation accuracy: 89.6%\n",
            "\n",
            "Minibatch loss at step 4200: 0.186334\n",
            "Minibatch accuracy: 95.0%\n",
            "Validation accuracy: 89.7%\n",
            "\n",
            "Minibatch loss at step 4250: 0.195563\n",
            "Minibatch accuracy: 92.8%\n",
            "Validation accuracy: 89.3%\n",
            "\n",
            "Minibatch loss at step 4300: 0.198710\n",
            "Minibatch accuracy: 94.2%\n",
            "Validation accuracy: 89.7%\n",
            "\n",
            "Minibatch loss at step 4350: 0.202062\n",
            "Minibatch accuracy: 93.4%\n",
            "Validation accuracy: 89.6%\n",
            "\n",
            "Minibatch loss at step 4400: 0.198855\n",
            "Minibatch accuracy: 94.4%\n",
            "Validation accuracy: 89.4%\n",
            "\n",
            "Minibatch loss at step 4450: 0.201458\n",
            "Minibatch accuracy: 93.4%\n",
            "Validation accuracy: 89.5%\n",
            "\n",
            "Minibatch loss at step 4500: 0.226443\n",
            "Minibatch accuracy: 93.2%\n",
            "Validation accuracy: 89.8%\n",
            "\n",
            "Minibatch loss at step 4550: 0.248762\n",
            "Minibatch accuracy: 93.2%\n",
            "Validation accuracy: 89.8%\n",
            "\n",
            "Minibatch loss at step 4600: 0.204258\n",
            "Minibatch accuracy: 93.4%\n",
            "Validation accuracy: 89.7%\n",
            "\n",
            "Minibatch loss at step 4650: 0.207919\n",
            "Minibatch accuracy: 93.0%\n",
            "Validation accuracy: 89.6%\n",
            "\n",
            "Minibatch loss at step 4700: 0.194017\n",
            "Minibatch accuracy: 94.4%\n",
            "Validation accuracy: 89.5%\n",
            "\n",
            "Minibatch loss at step 4750: 0.186670\n",
            "Minibatch accuracy: 93.2%\n",
            "Validation accuracy: 89.8%\n",
            "\n",
            "Minibatch loss at step 4800: 0.204255\n",
            "Minibatch accuracy: 92.6%\n",
            "Validation accuracy: 89.4%\n",
            "\n",
            "Minibatch loss at step 4850: 0.211375\n",
            "Minibatch accuracy: 93.4%\n",
            "Validation accuracy: 89.6%\n",
            "\n",
            "Minibatch loss at step 4900: 0.219388\n",
            "Minibatch accuracy: 92.4%\n",
            "Validation accuracy: 89.3%\n",
            "\n",
            "Minibatch loss at step 4950: 0.221215\n",
            "Minibatch accuracy: 93.8%\n",
            "Validation accuracy: 89.2%\n",
            "\n",
            "Minibatch loss at step 5000: 0.163766\n",
            "Minibatch accuracy: 94.8%\n",
            "Validation accuracy: 89.8%\n",
            "\n",
            "Minibatch loss at step 5050: 0.226018\n",
            "Minibatch accuracy: 93.2%\n",
            "Validation accuracy: 89.2%\n",
            "\n",
            "Minibatch loss at step 5100: 0.214932\n",
            "Minibatch accuracy: 93.4%\n",
            "Validation accuracy: 89.4%\n",
            "\n",
            "Minibatch loss at step 5150: 0.186435\n",
            "Minibatch accuracy: 94.2%\n",
            "Validation accuracy: 89.6%\n",
            "\n",
            "Minibatch loss at step 5200: 0.155930\n",
            "Minibatch accuracy: 94.6%\n",
            "Validation accuracy: 89.8%\n",
            "\n",
            "Minibatch loss at step 5250: 0.217141\n",
            "Minibatch accuracy: 92.8%\n",
            "Validation accuracy: 89.8%\n",
            "\n",
            "Minibatch loss at step 5300: 0.179746\n",
            "Minibatch accuracy: 93.8%\n",
            "Validation accuracy: 89.8%\n",
            "\n",
            "Minibatch loss at step 5350: 0.185799\n",
            "Minibatch accuracy: 94.0%\n",
            "Validation accuracy: 89.9%\n",
            "\n",
            "Minibatch loss at step 5400: 0.113883\n",
            "Minibatch accuracy: 96.0%\n",
            "Validation accuracy: 89.9%\n",
            "\n",
            "Minibatch loss at step 5450: 0.195036\n",
            "Minibatch accuracy: 93.8%\n",
            "Validation accuracy: 89.6%\n",
            "\n",
            "Minibatch loss at step 5500: 0.179458\n",
            "Minibatch accuracy: 94.2%\n",
            "Validation accuracy: 89.6%\n",
            "\n",
            "Minibatch loss at step 5550: 0.153933\n",
            "Minibatch accuracy: 95.2%\n",
            "Validation accuracy: 89.6%\n",
            "\n",
            "Minibatch loss at step 5600: 0.142728\n",
            "Minibatch accuracy: 95.6%\n",
            "Validation accuracy: 89.5%\n",
            "\n",
            "Minibatch loss at step 5650: 0.161771\n",
            "Minibatch accuracy: 94.8%\n",
            "Validation accuracy: 89.9%\n",
            "\n",
            "Minibatch loss at step 5700: 0.149927\n",
            "Minibatch accuracy: 95.8%\n",
            "Validation accuracy: 89.7%\n",
            "\n",
            "Minibatch loss at step 5750: 0.172087\n",
            "Minibatch accuracy: 94.2%\n",
            "Validation accuracy: 89.8%\n",
            "\n",
            "Minibatch loss at step 5800: 0.138817\n",
            "Minibatch accuracy: 95.8%\n",
            "Validation accuracy: 89.7%\n",
            "\n",
            "Minibatch loss at step 5850: 0.126962\n",
            "Minibatch accuracy: 96.0%\n",
            "Validation accuracy: 89.4%\n",
            "\n",
            "Minibatch loss at step 5900: 0.144883\n",
            "Minibatch accuracy: 95.0%\n",
            "Validation accuracy: 89.5%\n",
            "\n",
            "Minibatch loss at step 5950: 0.128500\n",
            "Minibatch accuracy: 95.6%\n",
            "Validation accuracy: 89.7%\n",
            "\n",
            "Minibatch loss at step 6000: 0.160114\n",
            "Minibatch accuracy: 95.0%\n",
            "Validation accuracy: 89.9%\n",
            "\n",
            "Minibatch loss at step 6050: 0.155621\n",
            "Minibatch accuracy: 95.6%\n",
            "Validation accuracy: 89.9%\n",
            "\n",
            "Minibatch loss at step 6100: 0.131381\n",
            "Minibatch accuracy: 96.0%\n",
            "Validation accuracy: 89.5%\n",
            "\n",
            "Minibatch loss at step 6150: 0.169687\n",
            "Minibatch accuracy: 95.6%\n",
            "Validation accuracy: 89.5%\n",
            "\n",
            "Minibatch loss at step 6200: 0.143486\n",
            "Minibatch accuracy: 95.8%\n",
            "Validation accuracy: 89.6%\n",
            "\n",
            "Minibatch loss at step 6250: 0.184458\n",
            "Minibatch accuracy: 92.8%\n",
            "Validation accuracy: 89.6%\n",
            "\n",
            "Minibatch loss at step 6300: 0.158276\n",
            "Minibatch accuracy: 95.0%\n",
            "Validation accuracy: 89.8%\n",
            "\n",
            "Minibatch loss at step 6350: 0.167329\n",
            "Minibatch accuracy: 95.4%\n",
            "Validation accuracy: 89.3%\n",
            "\n",
            "Minibatch loss at step 6400: 0.156214\n",
            "Minibatch accuracy: 95.0%\n",
            "Validation accuracy: 89.8%\n",
            "\n",
            "Minibatch loss at step 6450: 0.162529\n",
            "Minibatch accuracy: 95.2%\n",
            "Validation accuracy: 89.7%\n",
            "\n",
            "Minibatch loss at step 6500: 0.162926\n",
            "Minibatch accuracy: 96.0%\n",
            "Validation accuracy: 89.7%\n",
            "\n",
            "Minibatch loss at step 6550: 0.131714\n",
            "Minibatch accuracy: 96.6%\n",
            "Validation accuracy: 89.9%\n",
            "\n",
            "Minibatch loss at step 6600: 0.193381\n",
            "Minibatch accuracy: 93.8%\n",
            "Validation accuracy: 89.7%\n",
            "\n",
            "Minibatch loss at step 6650: 0.142101\n",
            "Minibatch accuracy: 95.4%\n",
            "Validation accuracy: 89.6%\n",
            "\n",
            "Minibatch loss at step 6700: 0.151703\n",
            "Minibatch accuracy: 94.2%\n",
            "Validation accuracy: 89.8%\n",
            "\n",
            "Minibatch loss at step 6750: 0.159403\n",
            "Minibatch accuracy: 96.0%\n",
            "Validation accuracy: 89.7%\n",
            "\n",
            "Minibatch loss at step 6800: 0.117659\n",
            "Minibatch accuracy: 95.6%\n",
            "Validation accuracy: 89.8%\n",
            "\n",
            "Minibatch loss at step 6850: 0.135223\n",
            "Minibatch accuracy: 95.4%\n",
            "Validation accuracy: 89.8%\n",
            "\n",
            "Minibatch loss at step 6900: 0.186606\n",
            "Minibatch accuracy: 93.2%\n",
            "Validation accuracy: 89.4%\n",
            "\n",
            "Minibatch loss at step 6950: 0.113655\n",
            "Minibatch accuracy: 96.8%\n",
            "Validation accuracy: 90.0%\n",
            "\n",
            "Test accuracy: 94.9%\n",
            "\n",
            "RESULT VERIFICATION\n",
            "\n",
            "#1.\n",
            "Predicted label: E\n",
            "True lable: E\n"
          ]
        },
        {
          "output_type": "display_data",
          "data": {
            "text/plain": [
              "<Figure size 288x288 with 2 Axes>"
            ],
            "image/png": "[encoded data removed]"
          },
          "metadata": {
            "needs_background": "light"
          }
        },
        {
          "output_type": "stream",
          "name": "stdout",
          "text": [
            "#2.\n",
            "Predicted label: A\n",
            "True lable: A\n"
          ]
        },
        {
          "output_type": "display_data",
          "data": {
            "text/plain": [
              "<Figure size 288x288 with 2 Axes>"
            ],
            "image/png": "[encoded data removed]"
          },
          "metadata": {
            "needs_background": "light"
          }
        },
        {
          "output_type": "stream",
          "name": "stdout",
          "text": [
            "#3.\n",
            "Predicted label: E\n",
            "True lable: E\n"
          ]
        },
        {
          "output_type": "display_data",
          "data": {
            "text/plain": [
              "<Figure size 288x288 with 2 Axes>"
            ],
            "image/png": "[encoded data removed]"
          },
          "metadata": {
            "needs_background": "light"
          }
        },
        {
          "output_type": "stream",
          "name": "stdout",
          "text": [
            "#4.\n",
            "Predicted label: H\n",
            "True lable: H\n"
          ]
        },
        {
          "output_type": "display_data",
          "data": {
            "text/plain": [
              "<Figure size 288x288 with 2 Axes>"
            ],
            "image/png": "[encoded data removed]"
          },
          "metadata": {
            "needs_background": "light"
          }
        },
        {
          "output_type": "stream",
          "name": "stdout",
          "text": [
            "#5.\n",
            "Predicted label: J\n",
            "True lable: J\n"
          ]
        },
        {
          "output_type": "display_data",
          "data": {
            "text/plain": [
              "<Figure size 288x288 with 2 Axes>"
            ],
            "image/png": "[encoded data removed]"
          },
          "metadata": {
            "needs_background": "light"
          }
        },
        {
          "output_type": "stream",
          "name": "stdout",
          "text": [
            "#6.\n",
            "Predicted label: J\n",
            "True lable: J\n"
          ]
        },
        {
          "output_type": "display_data",
          "data": {
            "text/plain": [
              "<Figure size 288x288 with 2 Axes>"
            ],
            "image/png": "[encoded data removed]"
          },
          "metadata": {
            "needs_background": "light"
          }
        },
        {
          "output_type": "stream",
          "name": "stdout",
          "text": [
            "#7.\n",
            "Predicted label: G\n",
            "True lable: G\n"
          ]
        },
        {
          "output_type": "display_data",
          "data": {
            "text/plain": [
              "<Figure size 288x288 with 2 Axes>"
            ],
            "image/png": "[encoded data removed]"
          },
          "metadata": {
            "needs_background": "light"
          }
        },
        {
          "output_type": "stream",
          "name": "stdout",
          "text": [
            "#8.\n",
            "Predicted label: E\n",
            "True lable: E\n"
          ]
        },
        {
          "output_type": "display_data",
          "data": {
            "text/plain": [
              "<Figure size 288x288 with 2 Axes>"
            ],
            "image/png": "[encoded data removed]"
          },
          "metadata": {
            "needs_background": "light"
          }
        },
        {
          "output_type": "stream",
          "name": "stdout",
          "text": [
            "#9.\n",
            "Predicted label: I\n",
            "True lable: I\n"
          ]
        },
        {
          "output_type": "display_data",
          "data": {
            "text/plain": [
              "<Figure size 288x288 with 2 Axes>"
            ],
            "image/png": "[encoded data removed]"
          },
          "metadata": {
            "needs_background": "light"
          }
        },
        {
          "output_type": "stream",
          "name": "stdout",
          "text": [
            "#10.\n",
            "Predicted label: G\n",
            "True lable: G\n"
          ]
        },
        {
          "output_type": "display_data",
          "data": {
            "text/plain": [
              "<Figure size 288x288 with 2 Axes>"
            ],
            "image/png": "[encoded data removed]"
          },
          "metadata": {
            "needs_background": "light"
          }
        },
        {
          "output_type": "stream",
          "name": "stdout",
          "text": [
            "#11.\n",
            "Predicted label: G\n",
            "True lable: G\n"
          ]
        },
        {
          "output_type": "display_data",
          "data": {
            "text/plain": [
              "<Figure size 288x288 with 2 Axes>"
            ],
            "image/png": "[encoded data removed]"
          },
          "metadata": {
            "needs_background": "light"
          }
        },
        {
          "output_type": "stream",
          "name": "stdout",
          "text": [
            "#12.\n",
            "Predicted label: E\n",
            "True lable: E\n"
          ]
        },
        {
          "output_type": "display_data",
          "data": {
            "text/plain": [
              "<Figure size 288x288 with 2 Axes>"
            ],
            "image/png": "[encoded data removed]"
          },
          "metadata": {
            "needs_background": "light"
          }
        },
        {
          "output_type": "stream",
          "name": "stdout",
          "text": [
            "#13.\n",
            "Predicted label: J\n",
            "True lable: J\n"
          ]
        },
        {
          "output_type": "display_data",
          "data": {
            "text/plain": [
              "<Figure size 288x288 with 2 Axes>"
            ],
            "image/png": "[encoded data removed]"
          },
          "metadata": {
            "needs_background": "light"
          }
        },
        {
          "output_type": "stream",
          "name": "stdout",
          "text": [
            "#14.\n",
            "Predicted label: C\n",
            "True lable: C\n"
          ]
        },
        {
          "output_type": "display_data",
          "data": {
            "text/plain": [
              "<Figure size 288x288 with 2 Axes>"
            ],
            "image/png": "[encoded data removed]"
          },
          "metadata": {
            "needs_background": "light"
          }
        },
        {
          "output_type": "stream",
          "name": "stdout",
          "text": [
            "#15.\n",
            "Predicted label: B\n",
            "True lable: B\n"
          ]
        },
        {
          "output_type": "display_data",
          "data": {
            "text/plain": [
              "<Figure size 288x288 with 2 Axes>"
            ],
            "image/png": "[encoded data removed]"
          },
          "metadata": {
            "needs_background": "light"
          }
        },
        {
          "output_type": "stream",
          "name": "stdout",
          "text": [
            "#16.\n",
            "Predicted label: D\n",
            "True lable: D\n"
          ]
        },
        {
          "output_type": "display_data",
          "data": {
            "text/plain": [
              "<Figure size 288x288 with 2 Axes>"
            ],
            "image/png": "[encoded data removed]"
          },
          "metadata": {
            "needs_background": "light"
          }
        },
        {
          "output_type": "stream",
          "name": "stdout",
          "text": [
            "#17.\n",
            "Predicted label: I\n",
            "True lable: I\n"
          ]
        },
        {
          "output_type": "display_data",
          "data": {
            "text/plain": [
              "<Figure size 288x288 with 2 Axes>"
            ],
            "image/png": "[encoded data removed]"
          },
          "metadata": {
            "needs_background": "light"
          }
        },
        {
          "output_type": "stream",
          "name": "stdout",
          "text": [
            "#18.\n",
            "Predicted label: G\n",
            "True lable: B\n"
          ]
        },
        {
          "output_type": "display_data",
          "data": {
            "text/plain": [
              "<Figure size 288x288 with 2 Axes>"
            ],
            "image/png": "[encoded data removed]"
          },
          "metadata": {
            "needs_background": "light"
          }
        },
        {
          "output_type": "stream",
          "name": "stdout",
          "text": [
            "#19.\n",
            "Predicted label: I\n",
            "True lable: I\n"
          ]
        },
        {
          "output_type": "display_data",
          "data": {
            "text/plain": [
              "<Figure size 288x288 with 2 Axes>"
            ],
            "image/png": "[encoded data removed]"
          },
          "metadata": {
            "needs_background": "light"
          }
        },
        {
          "output_type": "stream",
          "name": "stdout",
          "text": [
            "#20.\n",
            "Predicted label: I\n",
            "True lable: B\n"
          ]
        },
        {
          "output_type": "display_data",
          "data": {
            "text/plain": [
              "<Figure size 288x288 with 2 Axes>"
            ],
            "image/png": "[encoded data removed]"
          },
          "metadata": {
            "needs_background": "light"
          }
        },
        {
          "output_type": "stream",
          "name": "stdout",
          "text": [
            "#21.\n",
            "Predicted label: C\n",
            "True lable: C\n"
          ]
        },
        {
          "output_type": "display_data",
          "data": {
            "text/plain": [
              "<Figure size 288x288 with 2 Axes>"
            ],
            "image/png": "[encoded data removed]"
          },
          "metadata": {
            "needs_background": "light"
          }
        },
        {
          "output_type": "stream",
          "name": "stdout",
          "text": [
            "#22.\n",
            "Predicted label: E\n",
            "True lable: E\n"
          ]
        },
        {
          "output_type": "display_data",
          "data": {
            "text/plain": [
              "<Figure size 288x288 with 2 Axes>"
            ],
            "image/png": "[encoded data removed]"
          },
          "metadata": {
            "needs_background": "light"
          }
        },
        {
          "output_type": "stream",
          "name": "stdout",
          "text": [
            "#23.\n",
            "Predicted label: C\n",
            "True lable: C\n"
          ]
        },
        {
          "output_type": "display_data",
          "data": {
            "text/plain": [
              "<Figure size 288x288 with 2 Axes>"
            ],
            "image/png": "[encoded data removed]"
          },
          "metadata": {
            "needs_background": "light"
          }
        },
        {
          "output_type": "stream",
          "name": "stdout",
          "text": [
            "#24.\n",
            "Predicted label: G\n",
            "True lable: G\n"
          ]
        },
        {
          "output_type": "display_data",
          "data": {
            "text/plain": [
              "<Figure size 288x288 with 2 Axes>"
            ],
            "image/png": "[encoded data removed]"
          },
          "metadata": {
            "needs_background": "light"
          }
        },
        {
          "output_type": "stream",
          "name": "stdout",
          "text": [
            "#25.\n",
            "Predicted label: G\n",
            "True lable: G\n"
          ]
        },
        {
          "output_type": "display_data",
          "data": {
            "text/plain": [
              "<Figure size 288x288 with 2 Axes>"
            ],
            "image/png": "[encoded data removed]"
          },
          "metadata": {
            "needs_background": "light"
          }
        },
        {
          "output_type": "stream",
          "name": "stdout",
          "text": [
            "#26.\n",
            "Predicted label: G\n",
            "True lable: G\n"
          ]
        },
        {
          "output_type": "display_data",
          "data": {
            "text/plain": [
              "<Figure size 288x288 with 2 Axes>"
            ],
            "image/png": "[encoded data removed]"
          },
          "metadata": {
            "needs_background": "light"
          }
        },
        {
          "output_type": "stream",
          "name": "stdout",
          "text": [
            "#27.\n",
            "Predicted label: A\n",
            "True lable: A\n"
          ]
        },
        {
          "output_type": "display_data",
          "data": {
            "text/plain": [
              "<Figure size 288x288 with 2 Axes>"
            ],
            "image/png": "[encoded data removed]"
          },
          "metadata": {
            "needs_background": "light"
          }
        },
        {
          "output_type": "stream",
          "name": "stdout",
          "text": [
            "#28.\n",
            "Predicted label: H\n",
            "True lable: H\n"
          ]
        },
        {
          "output_type": "display_data",
          "data": {
            "text/plain": [
              "<Figure size 288x288 with 2 Axes>"
            ],
            "image/png": "[encoded data removed]"
          },
          "metadata": {
            "needs_background": "light"
          }
        },
        {
          "output_type": "stream",
          "name": "stdout",
          "text": [
            "#29.\n",
            "Predicted label: I\n",
            "True lable: I\n"
          ]
        },
        {
          "output_type": "display_data",
          "data": {
            "text/plain": [
              "<Figure size 288x288 with 2 Axes>"
            ],
            "image/png": "[encoded data removed]"
          },
          "metadata": {
            "needs_background": "light"
          }
        },
        {
          "output_type": "stream",
          "name": "stdout",
          "text": [
            "#30.\n",
            "Predicted label: B\n",
            "True lable: B\n"
          ]
        },
        {
          "output_type": "display_data",
          "data": {
            "text/plain": [
              "<Figure size 288x288 with 2 Axes>"
            ],
            "image/png": "[encoded data removed]"
          },
          "metadata": {
            "needs_background": "light"
          }
        }
      ],
      "source": [
        "num_steps = 10000\n",
        "acc_valid = 90\n",
        "with tf.Session(graph=graph) as session:\n",
        "  tf.global_variables_initializer().run()\n",
        "  print(\"Initialized\")\n",
        "  for step in range(num_steps):\n",
        "    # Pick an offset within the training data, which has been randomized.\n",
        "    # Note: we could use better randomization across epochs. (Current offset gives a linear increase in offset size over iterations)\n",
        "    offset = (step * batch_size) % (train_labels.shape[0] - batch_size)\n",
        "    # Generate a minibatch.\n",
        "    batch_data = train_dataset[offset:(offset + batch_size), :]\n",
        "    batch_labels = train_labels[offset:(offset + batch_size), :]\n",
        "    # Prepare a dictionary telling the session where to feed the minibatch.\n",
        "    # The key of the dictionary is the placeholder node of the graph to be fed,\n",
        "    # and the value is the numpy array to feed to it.\n",
        "    feed_dict = {tf_train_dataset : batch_data, tf_train_labels : batch_labels}\n",
        "    _, l, predictions = session.run([optimizer, loss, train_prediction], feed_dict=feed_dict)\n",
        "    if (step % 50 == 0):\n",
        "      validation_accuracy = accuracy(valid_prediction.eval(), valid_labels)\n",
        "      print(\"Minibatch loss at step %d: %f\" % (step, l))\n",
        "      print(\"Minibatch accuracy: %.1f%%\" % accuracy(predictions, batch_labels))\n",
        "      print(\"Validation accuracy: %.1f%%\\n\" % validation_accuracy)\n",
        "      if validation_accuracy >= acc_valid:\n",
        "        break\n",
        "  print(\"Test accuracy: %.1f%%\" % accuracy(test_prediction.eval(), test_labels))\n",
        "\n",
        "  ###Verifying the result\n",
        "\n",
        "  #Generate random indexes to subset the training data\n",
        "  rand_indexes = np.random.randint(test_dataset.shape[0], size=30) \n",
        "\n",
        "  #Reload plottable data from file\n",
        "  with open(pickle_file, 'rb') as f:\n",
        "    save = pickle.load(f)\n",
        "    p_test_dataset = save['test_dataset']\n",
        "    del save  # hint to help gc free up memory\n",
        "\n",
        "  #Show images, true labels & predicted labels\n",
        "  print('\\nRESULT VERIFICATION\\n')\n",
        "  for j,i in enumerate(rand_indexes):\n",
        "    print(f\"#{j+1}.\\nPredicted label: {classes[np.argmax(test_prediction.eval()[i])]}\\nTrue lable: {classes[np.argmax(test_labels[i])]}\")\n",
        "    image_data = p_test_dataset[i,:,:]\n",
        "    plt.matshow(image_data, cmap=plt.cm.gray)\n",
        "    plt.colorbar()\n",
        "    plt.show()\n"
      ]
    }
  ],
  "metadata": {
    "colab": {
      "collapsed_sections": [],
      "name": "Colab_notmnist_solutions.ipynb",
      "provenance": []
    },
    "kernelspec": {
      "display_name": "Python 3",
      "language": "python",
      "name": "python3"
    },
    "language_info": {
      "codemirror_mode": {
        "name": "ipython",
        "version": 3
      },
      "file_extension": ".py",
      "mimetype": "text/x-python",
      "name": "python",
      "nbconvert_exporter": "python",
      "pygments_lexer": "ipython3",
      "version": "3.5.2"
    }
  },
  "nbformat": 4,
  "nbformat_minor": 0
}